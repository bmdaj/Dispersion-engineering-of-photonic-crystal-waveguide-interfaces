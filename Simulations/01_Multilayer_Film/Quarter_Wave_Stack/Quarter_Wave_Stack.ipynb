{
 "cells": [
  {
   "cell_type": "markdown",
   "metadata": {},
   "source": [
    "# Quarter Wave Stack"
   ]
  },
  {
   "cell_type": "markdown",
   "metadata": {},
   "source": [
    "## Calculation of band structure"
   ]
  },
  {
   "cell_type": "markdown",
   "metadata": {},
   "source": [
    "The Quarter Wave Stack is just a special case of the general multilayer film, where the thickness of the $\\varepsilon_1$ layer is $d_1$ and the thickness of the $\\varepsilon_2$ layer is $d_2=a-d_1$. "
   ]
  },
  {
   "cell_type": "markdown",
   "metadata": {},
   "source": [
    "First, we load the necessary modules and define the necessary parameters:"
   ]
  },
  {
   "cell_type": "code",
   "execution_count": 1,
   "metadata": {},
   "outputs": [],
   "source": [
    "import meep as mp\n",
    "from meep import mpb\n",
    "import numpy as np\n",
    "\n",
    "import matplotlib.pyplot as plt\n",
    "plt.rcParams.update({'font.size': 16})\n",
    "plt.rcParams.update({\n",
    "    \"text.usetex\": True,\n",
    "    \"font.family\": \"sans-serif\",\n",
    "    \"font.sans-serif\": [\"Helvetica\"]})\n",
    "# for Palatino and other serif fonts use:\n",
    "plt.rcParams.update({\n",
    "    \"text.usetex\": True,\n",
    "    \"font.family\": \"serif\",\n",
    "    \"font.serif\": [\"Palatino\"],\n",
    "})"
   ]
  },
  {
   "cell_type": "markdown",
   "metadata": {},
   "source": [
    "We fix the resolution:"
   ]
  },
  {
   "cell_type": "code",
   "execution_count": 2,
   "metadata": {},
   "outputs": [],
   "source": [
    "resolution = 64 "
   ]
  },
  {
   "cell_type": "markdown",
   "metadata": {},
   "source": [
    "We define the width of the one-dimensional layers:"
   ]
  },
  {
   "cell_type": "code",
   "execution_count": 3,
   "metadata": {},
   "outputs": [],
   "source": [
    "a = 1 # arbitrary units\n",
    "w1 = 0.2 * a\n",
    "w2 = 0.8 * a # For the Quarter Wave Stack: w2 = a - w1"
   ]
  },
  {
   "cell_type": "markdown",
   "metadata": {},
   "source": [
    "We set the two mediums with high contrast to get a big enough gap:"
   ]
  },
  {
   "cell_type": "code",
   "execution_count": 4,
   "metadata": {},
   "outputs": [],
   "source": [
    "Med_1 = mp.Medium(index=np.sqrt(13))\n",
    "Med_2= mp.Medium(index=1)"
   ]
  },
  {
   "cell_type": "markdown",
   "metadata": {},
   "source": [
    "Now we define the supercell:"
   ]
  },
  {
   "cell_type": "code",
   "execution_count": 5,
   "metadata": {},
   "outputs": [],
   "source": [
    "sc_z = 1 * a  # supercell width\n",
    "\n",
    "geometry_lattice = mp.Lattice(size=mp.Vector3(0,0,sc_z))"
   ]
  },
  {
   "cell_type": "markdown",
   "metadata": {},
   "source": [
    "Now we define the geometry of our problem:"
   ]
  },
  {
   "cell_type": "code",
   "execution_count": 6,
   "metadata": {},
   "outputs": [],
   "source": [
    "center1 = 0.5*(-sc_z + w1)\n",
    "center2 = 0.5*(sc_z - w2)\n",
    "geometry = [mp.Block(size=mp.Vector3(mp.inf, mp.inf, w1),\n",
    "                     center=mp.Vector3(0,0,center1), material=Med_1),mp.Block(size=mp.Vector3(mp.inf, mp.inf, w2),\n",
    "                     center=mp.Vector3(0,0,center2), material=Med_2)]"
   ]
  },
  {
   "cell_type": "code",
   "execution_count": 7,
   "metadata": {},
   "outputs": [
    {
     "name": "stdout",
     "output_type": "stream",
     "text": [
      "-----------\n",
      "Initializing structure...\n",
      "time for choose_chunkdivision = 1.3113e-05 s\n",
      "Working in 3D dimensions.\n",
      "Computational cell is 0.015625 x 0.015625 x 1 with resolution 64\n",
      "     block, center = (0,0,-0.4)\n",
      "          size (1e+20,1e+20,0.2)\n",
      "          axes (1,0,0), (0,1,0), (0,0,1)\n",
      "          dielectric constant epsilon diagonal = (13,13,13)\n",
      "     block, center = (0,0,0.1)\n",
      "          size (1e+20,1e+20,0.8)\n",
      "          axes (1,0,0), (0,1,0), (0,0,1)\n",
      "          dielectric constant epsilon diagonal = (1,1,1)\n",
      "time for set_epsilon = 0.00121284 s\n",
      "-----------\n"
     ]
    }
   ],
   "source": [
    "sim = mp.Simulation(resolution=resolution,\n",
    "                    cell_size= mp.Vector3(0,0,sc_z),\n",
    "                    geometry=geometry)\n",
    "sim.init_sim()\n",
    "eps_data = sim.get_epsilon()"
   ]
  },
  {
   "cell_type": "code",
   "execution_count": 8,
   "metadata": {},
   "outputs": [
    {
     "data": {
      "text/plain": [
       "Text(0, 0.5, '$\\\\varepsilon$(z)')"
      ]
     },
     "execution_count": 8,
     "metadata": {},
     "output_type": "execute_result"
    },
    {
     "data": {
      "image/png": "[encoded data removed]",
      "text/plain": [
       "<Figure size 720x432 with 1 Axes>"
      ]
     },
     "metadata": {
      "needs_background": "light"
     },
     "output_type": "display_data"
    }
   ],
   "source": [
    "import matplotlib.pyplot as plt\n",
    "\n",
    "fig, ax = plt.subplots(figsize=(10,6))\n",
    "\n",
    "ax.plot(np.linspace(0,1,len(eps_data)),eps_data)\n",
    "ax.set_title('Dielectric profile for $\\\\varepsilon_1=13$ and $\\\\varepsilon_2=1$')\n",
    "ax.set_xlabel('z (a units)')\n",
    "ax.set_ylabel('$\\\\varepsilon$(z)')"
   ]
  },
  {
   "cell_type": "markdown",
   "metadata": {},
   "source": [
    "We confirm that this is the dielectric profile we were looking for."
   ]
  },
  {
   "cell_type": "markdown",
   "metadata": {},
   "source": [
    "Now we set up the  $k$-space (in our case we take into account that we want to check for the  $k_z$  component):"
   ]
  },
  {
   "cell_type": "code",
   "execution_count": 9,
   "metadata": {},
   "outputs": [],
   "source": [
    "num_bands = 10\n",
    "\n",
    "num_k = 20\n",
    "k_min = -0.5\n",
    "k_max = 0.5\n",
    "\n",
    "k_points = mp.interpolate(num_k, [mp.Vector3(0,0,k_min), mp.Vector3(0,0,k_max)])"
   ]
  },
  {
   "cell_type": "markdown",
   "metadata": {},
   "source": [
    "We can now call the run function to compute the bands:"
   ]
  },
  {
   "cell_type": "code",
   "execution_count": 10,
   "metadata": {},
   "outputs": [
    {
     "name": "stdout",
     "output_type": "stream",
     "text": [
      "Initializing eigensolver data\n",
      "Computing 10 bands with 1e-07 tolerance\n",
      "Working in 3 dimensions.\n",
      "Grid size is 1 x 1 x 64.\n",
      "Solving for 10 bands at a time.\n",
      "Creating Maxwell data...\n",
      "Mesh size is 3.\n",
      "Lattice vectors:\n",
      "     (1, 0, 0)\n",
      "     (0, 1, 0)\n",
      "     (0, 0, 1)\n",
      "Cell volume = 1\n",
      "Reciprocal lattice vectors (/ 2 pi):\n",
      "     (1, -0, 0)\n",
      "     (-0, 1, -0)\n",
      "     (0, -0, 1)\n",
      "Geometric objects:\n",
      "     block, center = (0,0,-0.4)\n",
      "          size (1e+20,1e+20,0.2)\n",
      "          axes (1,0,0), (0,1,0), (0,0,1)\n",
      "     block, center = (0,0,0.1)\n",
      "          size (1e+20,1e+20,0.8)\n",
      "          axes (1,0,0), (0,1,0), (0,0,1)\n",
      "Geometric object tree has depth 2 and 5 object nodes (vs. 2 actual objects)\n",
      "Initializing epsilon function...\n",
      "Allocating fields...\n",
      "Solving for band polarization: .\n",
      "Initializing fields to random numbers...\n",
      "22 k-points\n",
      "  Vector3<0.0, 0.0, -0.5>\n",
      "  Vector3<0.0, 0.0, -0.4523809523809524>\n",
      "  Vector3<0.0, 0.0, -0.40476190476190477>\n",
      "  Vector3<0.0, 0.0, -0.35714285714285715>\n",
      "  Vector3<0.0, 0.0, -0.30952380952380953>\n",
      "  Vector3<0.0, 0.0, -0.2619047619047619>\n",
      "  Vector3<0.0, 0.0, -0.2142857142857143>\n",
      "  Vector3<0.0, 0.0, -0.16666666666666669>\n",
      "  Vector3<0.0, 0.0, -0.11904761904761907>\n",
      "  Vector3<0.0, 0.0, -0.07142857142857145>\n",
      "  Vector3<0.0, 0.0, -0.023809523809523836>\n",
      "  Vector3<0.0, 0.0, 0.023809523809523725>\n",
      "  Vector3<0.0, 0.0, 0.0714285714285714>\n",
      "  Vector3<0.0, 0.0, 0.11904761904761907>\n",
      "  Vector3<0.0, 0.0, 0.16666666666666663>\n",
      "  Vector3<0.0, 0.0, 0.2142857142857142>\n",
      "  Vector3<0.0, 0.0, 0.26190476190476186>\n",
      "  Vector3<0.0, 0.0, 0.30952380952380953>\n",
      "  Vector3<0.0, 0.0, 0.3571428571428571>\n",
      "  Vector3<0.0, 0.0, 0.40476190476190466>\n",
      "  Vector3<0.0, 0.0, 0.45238095238095233>\n",
      "  Vector3<0.0, 0.0, 0.5>\n",
      "elapsed time for initialization: 0.02078390121459961\n",
      "solve_kpoint (0,0,-0.5):\n",
      "Solving for bands 1 to 10...\n",
      "Finished solving for bands 1 to 10 after 11 iterations.\n",
      "freqs:, 1, 0, 0, -0.5, 0.5, 0.203113, 0.203113, 0.453334, 0.453334, 0.864563, 0.864563, 1.10485, 1.10485, 1.53057, 1.53057\n",
      "elapsed time for k point: 0.026773452758789062\n",
      "solve_kpoint (0,0,-0.452381):\n",
      "Solving for bands 1 to 10...\n",
      "Finished solving for bands 1 to 10 after 6 iterations.\n",
      "freqs:, 2, 0, 0, -0.452381, 0.452381, 0.199734, 0.199734, 0.456704, 0.456704, 0.861083, 0.861083, 1.10831, 1.10831, 1.52688, 1.52688\n",
      "elapsed time for k point: 0.016282081604003906\n",
      "solve_kpoint (0,0,-0.404762):\n",
      "Solving for bands 1 to 10...\n",
      "Finished solving for bands 1 to 10 after 6 iterations.\n",
      "freqs:, 3, 0, 0, -0.404762, 0.404762, 0.190098, 0.190098, 0.466313, 0.466313, 0.851198, 0.851198, 1.11812, 1.11812, 1.51647, 1.51647\n",
      "elapsed time for k point: 0.01440119743347168\n",
      "solve_kpoint (0,0,-0.357143):\n",
      "Solving for bands 1 to 10...\n",
      "Finished solving for bands 1 to 10 after 6 iterations.\n",
      "freqs:, 4, 0, 0, -0.357143, 0.357143, 0.175402, 0.175402, 0.480958, 0.480958, 0.836207, 0.836207, 1.13299, 1.13299, 1.50088, 1.50088\n",
      "elapsed time for k point: 0.019293546676635742\n",
      "solve_kpoint (0,0,-0.309524):\n",
      "Solving for bands 1 to 10...\n",
      "Finished solving for bands 1 to 10 after 5 iterations.\n",
      "freqs:, 5, 0, 0, -0.309524, 0.309524, 0.156974, 0.156974, 0.499305, 0.499305, 0.817525, 0.817525, 1.15146, 1.15146, 1.48171, 1.48171\n",
      "elapsed time for k point: 0.024373292922973633\n",
      "solve_kpoint (0,0,-0.261905):\n",
      "Solving for bands 1 to 10...\n",
      "Finished solving for bands 1 to 10 after 5 iterations.\n",
      "freqs:, 6, 0, 0, -0.261905, 0.261905, 0.135922, 0.135922, 0.520227, 0.520227, 0.796314, 0.796314, 1.17234, 1.17234, 1.46025, 1.46025\n",
      "elapsed time for k point: 0.01058197021484375\n",
      "solve_kpoint (0,0,-0.214286):\n",
      "Solving for bands 1 to 10...\n",
      "Finished solving for bands 1 to 10 after 5 iterations.\n",
      "freqs:, 7, 0, 0, -0.214286, 0.214286, 0.113064, 0.113064, 0.542876, 0.542876, 0.773434, 0.773434, 1.19469, 1.19469, 1.43743, 1.43743\n",
      "elapsed time for k point: 0.015014410018920898\n",
      "solve_kpoint (0,0,-0.166667):\n",
      "Solving for bands 1 to 10...\n",
      "Finished solving for bands 1 to 10 after 5 iterations.\n",
      "freqs:, 8, 0, 0, -0.166667, 0.166667, 0.0889763, 0.0889763, 0.566605, 0.566605, 0.749528, 0.749528, 1.21773, 1.21773, 1.41405, 1.41405\n",
      "elapsed time for k point: 0.01323556900024414\n",
      "solve_kpoint (0,0,-0.119048):\n",
      "Solving for bands 1 to 10...\n",
      "Finished solving for bands 1 to 10 after 5 iterations.\n",
      "freqs:, 9, 0, 0, -0.119048, 0.119048, 0.0640662, 0.0640662, 0.590833, 0.590833, 0.725175, 0.725175, 1.24052, 1.24052, 1.39101, 1.39101\n",
      "elapsed time for k point: 0.011203289031982422\n",
      "solve_kpoint (0,0,-0.0714286):\n",
      "Solving for bands 1 to 10...\n",
      "Finished solving for bands 1 to 10 after 4 iterations.\n",
      "freqs:, 10, 0, 0, -0.0714286, 0.0714286, 0.0386329, 0.0386329, 0.614677, 0.614677, 0.70125, 0.70125, 1.26141, 1.26141, 1.36996, 1.36996\n",
      "elapsed time for k point: 0.012134790420532227\n",
      "solve_kpoint (0,0,-0.0238095):\n",
      "Solving for bands 1 to 10...\n",
      "Finished solving for bands 1 to 10 after 4 iterations.\n",
      "freqs:, 11, 0, 0, -0.0238095, 0.0238095, 0.0129087, 0.0129087, 0.634813, 0.634813, 0.681074, 0.681074, 1.27603, 1.27603, 1.35526, 1.35526\n",
      "elapsed time for k point: 0.017829179763793945\n",
      "solve_kpoint (0,0,0.0238095):\n",
      "Solving for bands 1 to 10...\n",
      "Finished solving for bands 1 to 10 after 4 iterations.\n",
      "freqs:, 12, 0, 0, 0.0238095, 0.0238095, 0.0129087, 0.0129087, 0.634813, 0.634813, 0.681074, 0.681074, 1.27603, 1.27603, 1.35526, 1.35526\n",
      "elapsed time for k point: 0.01065969467163086\n",
      "solve_kpoint (0,0,0.0714286):\n",
      "Solving for bands 1 to 10...\n",
      "Finished solving for bands 1 to 10 after 4 iterations.\n",
      "freqs:, 13, 0, 0, 0.0714286, 0.0714286, 0.0386328, 0.0386328, 0.614677, 0.614677, 0.70125, 0.70125, 1.26141, 1.26141, 1.36996, 1.36996\n",
      "elapsed time for k point: 0.011395931243896484\n",
      "solve_kpoint (0,0,0.119048):\n",
      "Solving for bands 1 to 10...\n",
      "Finished solving for bands 1 to 10 after 5 iterations.\n",
      "freqs:, 14, 0, 0, 0.119048, 0.119048, 0.0640662, 0.0640662, 0.590833, 0.590833, 0.725175, 0.725175, 1.24052, 1.24052, 1.39101, 1.39101\n",
      "elapsed time for k point: 0.017301082611083984\n",
      "solve_kpoint (0,0,0.166667):\n",
      "Solving for bands 1 to 10...\n",
      "Finished solving for bands 1 to 10 after 5 iterations.\n",
      "freqs:, 15, 0, 0, 0.166667, 0.166667, 0.0889763, 0.0889763, 0.566605, 0.566605, 0.749528, 0.749528, 1.21773, 1.21773, 1.41405, 1.41405\n",
      "elapsed time for k point: 0.013948440551757812\n",
      "solve_kpoint (0,0,0.214286):\n",
      "Solving for bands 1 to 10...\n",
      "Finished solving for bands 1 to 10 after 5 iterations.\n",
      "freqs:, 16, 0, 0, 0.214286, 0.214286, 0.113064, 0.113064, 0.542876, 0.542876, 0.773434, 0.773434, 1.19469, 1.19469, 1.43743, 1.43743\n",
      "elapsed time for k point: 0.01203155517578125\n",
      "solve_kpoint (0,0,0.261905):\n",
      "Solving for bands 1 to 10...\n",
      "Finished solving for bands 1 to 10 after 5 iterations.\n",
      "freqs:, 17, 0, 0, 0.261905, 0.261905, 0.135922, 0.135922, 0.520227, 0.520227, 0.796314, 0.796314, 1.17234, 1.17234, 1.46025, 1.46025\n",
      "elapsed time for k point: 0.014908313751220703\n",
      "solve_kpoint (0,0,0.309524):\n",
      "Solving for bands 1 to 10...\n",
      "Finished solving for bands 1 to 10 after 5 iterations.\n",
      "freqs:, 18, 0, 0, 0.309524, 0.309524, 0.156974, 0.156974, 0.499305, 0.499305, 0.817525, 0.817525, 1.15146, 1.15146, 1.48171, 1.48171\n",
      "elapsed time for k point: 0.012048482894897461\n",
      "solve_kpoint (0,0,0.357143):\n",
      "Solving for bands 1 to 10...\n",
      "Finished solving for bands 1 to 10 after 6 iterations.\n",
      "freqs:, 19, 0, 0, 0.357143, 0.357143, 0.175402, 0.175402, 0.480958, 0.480958, 0.836207, 0.836207, 1.13299, 1.13299, 1.50088, 1.50088\n",
      "elapsed time for k point: 0.014904022216796875\n",
      "solve_kpoint (0,0,0.404762):\n",
      "Solving for bands 1 to 10...\n",
      "Finished solving for bands 1 to 10 after 6 iterations.\n",
      "freqs:, 20, 0, 0, 0.404762, 0.404762, 0.190098, 0.190098, 0.466313, 0.466313, 0.851198, 0.851198, 1.11812, 1.11812, 1.51647, 1.51647\n",
      "elapsed time for k point: 0.01643085479736328\n",
      "solve_kpoint (0,0,0.452381):\n",
      "Solving for bands 1 to 10...\n",
      "Finished solving for bands 1 to 10 after 6 iterations.\n",
      "freqs:, 21, 0, 0, 0.452381, 0.452381, 0.199734, 0.199734, 0.456704, 0.456704, 0.861083, 0.861083, 1.10831, 1.10831, 1.52688, 1.52688\n",
      "elapsed time for k point: 0.012633562088012695\n",
      "solve_kpoint (0,0,0.5):\n",
      "Solving for bands 1 to 10...\n",
      "Finished solving for bands 1 to 10 after 6 iterations.\n",
      "freqs:, 22, 0, 0, 0.5, 0.5, 0.203113, 0.203113, 0.453334, 0.453334, 0.864563, 0.864563, 1.10485, 1.10485, 1.53057, 1.53057\n",
      "elapsed time for k point: 0.013195276260375977\n",
      "Band 1 range: 0.012908692113569103 at Vector3<0.0, 0.0, 0.023809523809523725> to 0.20311302397046554 at Vector3<0.0, 0.0, 0.5>\n",
      "Band 2 range: 0.012908698277523067 at Vector3<0.0, 0.0, 0.023809523809523725> to 0.20311302397046566 at Vector3<0.0, 0.0, 0.5>\n",
      "Band 3 range: 0.45333374089891215 at Vector3<0.0, 0.0, -0.5> to 0.6348133942508455 at Vector3<0.0, 0.0, 0.023809523809523725>\n",
      "Band 4 range: 0.4533337410042996 at Vector3<0.0, 0.0, -0.5> to 0.6348133942516325 at Vector3<0.0, 0.0, 0.023809523809523725>\n",
      "Band 5 range: 0.6810742615508835 at Vector3<0.0, 0.0, -0.023809523809523836> to 0.8645626638128123 at Vector3<0.0, 0.0, 0.5>\n",
      "Band 6 range: 0.6810742615508839 at Vector3<0.0, 0.0, -0.023809523809523836> to 0.8645626638128131 at Vector3<0.0, 0.0, 0.5>\n",
      "Band 7 range: 1.1048518833601138 at Vector3<0.0, 0.0, -0.5> to 1.2760348362130218 at Vector3<0.0, 0.0, 0.023809523809523725>\n",
      "Band 8 range: 1.104851883600704 at Vector3<0.0, 0.0, -0.5> to 1.2760348390301355 at Vector3<0.0, 0.0, 0.023809523809523725>\n",
      "Band 9 range: 1.3552610675834122 at Vector3<0.0, 0.0, -0.023809523809523836> to 1.530574617584446 at Vector3<0.0, 0.0, 0.5>\n",
      "Band 10 range: 1.3552610675834178 at Vector3<0.0, 0.0, -0.023809523809523836> to 1.530574617584447 at Vector3<0.0, 0.0, 0.5>\n",
      "Gap from band 2 (0.20311302397046566) to band 3 (0.45333374089891215), 76.23488463020648%\n",
      "Gap from band 4 (0.6348133942516325) to band 5 (0.6810742615508835), 7.031127177956233%\n",
      "Gap from band 6 (0.8645626638128131) to band 7 (1.1048518833601138), 24.402096541049033%\n",
      "Gap from band 8 (1.2760348390301355) to band 9 (1.3552610675834122), 6.021841052095137%\n",
      "total elapsed time for run: 0.35700440406799316\n",
      "done\n"
     ]
    }
   ],
   "source": [
    "ms = mpb.ModeSolver(geometry_lattice=geometry_lattice,\n",
    "                    geometry=geometry,\n",
    "                    k_points=k_points,\n",
    "                    resolution=resolution,\n",
    "                    num_bands=num_bands);\n",
    "ms.run();"
   ]
  },
  {
   "cell_type": "markdown",
   "metadata": {},
   "source": [
    "Now, we have passed everything down to `qws_ms.py` and run. We then generate some **band files** to plot them later. This was done by means of the `grep` command, i.e.: `grep freqs: qws_data.dat > qws_bands.dat`. To access these files:"
   ]
  },
  {
   "cell_type": "code",
   "execution_count": 11,
   "metadata": {},
   "outputs": [
    {
     "name": "stdout",
     "output_type": "stream",
     "text": [
      "/home/ben/Desktop/Thesis/github/Thesis_name/Simulations/01_Multilayer_Film/Quarter_Wave_Stack\n"
     ]
    }
   ],
   "source": [
    "import os\n",
    "path = os.path.abspath(os.getcwd())\n",
    "print(path)"
   ]
  },
  {
   "cell_type": "code",
   "execution_count": 12,
   "metadata": {},
   "outputs": [],
   "source": [
    "f = np.genfromtxt(path+\"/data/qws_bands.dat\", delimiter=\",\")[:-1,1:]"
   ]
  },
  {
   "cell_type": "markdown",
   "metadata": {},
   "source": [
    "Now we plot the first four bands:"
   ]
  },
  {
   "cell_type": "code",
   "execution_count": 13,
   "metadata": {},
   "outputs": [
    {
     "data": {
      "text/plain": [
       "Text(0.3, 0.55, 'Air band')"
      ]
     },
     "execution_count": 13,
     "metadata": {},
     "output_type": "execute_result"
    },
    {
     "data": {
      "image/png": "[encoded data removed]",
      "text/plain": [
       "<Figure size 1008x720 with 1 Axes>"
      ]
     },
     "metadata": {
      "needs_background": "light"
     },
     "output_type": "display_data"
    }
   ],
   "source": [
    "fig, ax = plt.subplots(figsize=(14,10))\n",
    "title = \"Photonic bands structure for QWS with $\\\\varepsilon_1$=13, $\\\\varepsilon_2$=1, $d_1=0.8a$ and $d_2=0.2a$\"\n",
    "ax.plot(f[:,3], f[:,-10], c='b') #in the files we calculated 8 bands, and we take the first 2! \n",
    "x = np.linspace(-0.5,0.5,len(f[:,-10]))\n",
    "pbg1_min = max(f[:,-10])*np.ones(len(f[:,-10]))\n",
    "pbg1_max = min(f[:,-8])*np.ones(len(f[:,-8]))\n",
    "ax.fill_between(x,pbg1_max,pbg1_min, facecolor='yellow', alpha=0.3)\n",
    "ax.plot(f[:,3], f[:,-8], c='b') # TE and TM modes will be the same so we jump by 2\n",
    "pbg2_min = max(f[:,-8])*np.ones(len(f[:,-8]))\n",
    "pbg2_max = min(f[:,-6])*np.ones(len(f[:,-6]))\n",
    "ax.fill_between(x,pbg2_min,pbg2_max, facecolor='yellow', alpha=0.3)\n",
    "ax.plot(f[:,3], f[:,-6], c='b') # TE and TM modes will be the same so we jump by 2\n",
    "pbg3_min = max(f[:,-6])*np.ones(len(f[:,-6]))\n",
    "pbg3_max = min(f[:,-4])*np.ones(len(f[:,-4]))\n",
    "ax.fill_between(x,pbg3_min,pbg3_max, facecolor='yellow', alpha=0.3)\n",
    "ax.plot(f[:,3], f[:,-4], c='b') # TE and TM modes will be the same so we jump by 2\n",
    "ax.set_title(title)\n",
    "ax.set_xlabel(\"Wave vector $k_z a / 2 \\pi$\")\n",
    "ax.set_ylabel(\"Frequency $\\omega a / 2 \\pi c$\")\n",
    "ax.text(-0.1,0.3, 'Photonic Band Gap')\n",
    "ax.text(0.3,0.1, 'Dielectric band')\n",
    "ax.text(0.3,0.55, 'Air band')"
   ]
  },
  {
   "cell_type": "markdown",
   "metadata": {},
   "source": [
    "The band gap is maximized for the QWS because **the reflected waves from each layer are exactly in phase at the midgap frequency**!"
   ]
  },
  {
   "cell_type": "markdown",
   "metadata": {},
   "source": [
    "The analytical expression: $\\frac{\\Delta \\omega}{\\omega_m}=\\frac{4}{\\pi}\\text{sin}^{-1}\\left(\\frac{|n_1 - n_2|}{n_1+n_2}\\right)$ predicts $\\%76.6$ ratio for $d_1 \\simeq 0.217$, while our simulation yields $\\% 76.23$."
   ]
  },
  {
   "cell_type": "markdown",
   "metadata": {},
   "source": [
    "Note that **in the limit $k_z=0$  the small gap goes to zero** (if we had infinite $k$ points as well as infinite resolution). Therefore, the bands would be **degenerate** at that point!"
   ]
  }
 ],
 "metadata": {
  "kernelspec": {
   "display_name": "Python 3",
   "language": "python",
   "name": "python3"
  },
  "language_info": {
   "codemirror_mode": {
    "name": "ipython",
    "version": 3
   },
   "file_extension": ".py",
   "mimetype": "text/x-python",
   "name": "python",
   "nbconvert_exporter": "python",
   "pygments_lexer": "ipython3",
   "version": "3.8.10"
  }
 },
 "nbformat": 4,
 "nbformat_minor": 4
}
