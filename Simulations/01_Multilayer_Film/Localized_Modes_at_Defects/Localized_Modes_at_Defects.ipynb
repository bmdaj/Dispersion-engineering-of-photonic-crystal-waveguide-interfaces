{
 "cells": [
  {
   "cell_type": "markdown",
   "metadata": {},
   "source": [
    "# Localized modes at defects"
   ]
  },
  {
   "cell_type": "markdown",
   "metadata": {},
   "source": [
    "In this section we will explore the case of the quarter wave stack when we include a defect in it (i.e. we double the thickness of low $\\varepsilon$ layer)."
   ]
  },
  {
   "cell_type": "markdown",
   "metadata": {},
   "source": [
    "As usual we import the modules and set plotting preferences:"
   ]
  },
  {
   "cell_type": "code",
   "execution_count": 1,
   "metadata": {},
   "outputs": [],
   "source": [
    "import meep as mp\n",
    "from meep import mpb\n",
    "import numpy as np\n",
    "\n",
    "import matplotlib.pyplot as plt\n",
    "plt.rcParams.update({'font.size': 16})\n",
    "plt.rcParams.update({\n",
    "    \"text.usetex\": True,\n",
    "    \"font.family\": \"sans-serif\",\n",
    "    \"font.sans-serif\": [\"Helvetica\"]})\n",
    "# for Palatino and other serif fonts use:\n",
    "plt.rcParams.update({\n",
    "    \"text.usetex\": True,\n",
    "    \"font.family\": \"serif\",\n",
    "    \"font.serif\": [\"Palatino\"],\n",
    "})"
   ]
  },
  {
   "cell_type": "markdown",
   "metadata": {},
   "source": [
    "We fix the resolution:"
   ]
  },
  {
   "cell_type": "code",
   "execution_count": 2,
   "metadata": {},
   "outputs": [],
   "source": [
    "resolution = 128"
   ]
  },
  {
   "cell_type": "markdown",
   "metadata": {},
   "source": [
    "Now we fix the mediums:"
   ]
  },
  {
   "cell_type": "code",
   "execution_count": 3,
   "metadata": {},
   "outputs": [],
   "source": [
    "Med_1 = mp.Medium(index=np.sqrt(13))\n",
    "Med_2= mp.Medium(index=1)"
   ]
  },
  {
   "cell_type": "markdown",
   "metadata": {},
   "source": [
    "Next, we set the geometry:"
   ]
  },
  {
   "cell_type": "code",
   "execution_count": 4,
   "metadata": {},
   "outputs": [],
   "source": [
    "a = 1 # arbitrary units\n",
    "sc_z = 10 * a  \n",
    "\n",
    "geometry_lattice = mp.Lattice(size=mp.Vector3(0,0,sc_z))"
   ]
  },
  {
   "cell_type": "code",
   "execution_count": 5,
   "metadata": {},
   "outputs": [],
   "source": [
    "w1 = 0.2 * a\n",
    "w2 = 0.8 * a\n",
    "\n",
    "center1 = (-sc_z + w1) * 0.5\n",
    "center2 = center1 + (w1 + w2) * 0.5\n",
    "\n",
    "geometry = []\n",
    "\n",
    "for i in range(5):\n",
    "    \n",
    "    geometry.append(mp.Block(size=mp.Vector3(mp.inf, mp.inf, w1),\n",
    "                     center=mp.Vector3(0,0,center1), material=Med_1))\n",
    "    geometry.append(mp.Block(size=mp.Vector3(mp.inf, mp.inf, w2),\n",
    "                     center=mp.Vector3(0,0,center2), material=Med_2))\n",
    "    \n",
    "    center1 = center2 + (w2 + w1)*0.5\n",
    "    center2 = center1 + (w2 + w1)*0.5\n",
    "    \n",
    "center2 = w2*0.5\n",
    "center1 = w2 + 0.5*w1\n",
    "    \n",
    "for i in range(5):\n",
    "    \n",
    "    geometry.append(mp.Block(size=mp.Vector3(mp.inf, mp.inf, w2),\n",
    "                     center=mp.Vector3(0,0,center2), material=Med_2))\n",
    "    geometry.append(mp.Block(size=mp.Vector3(mp.inf, mp.inf, w1),\n",
    "                     center=mp.Vector3(0,0,center1), material=Med_1))\n",
    "    \n",
    "    center2 = center1 + (w2 + w1)*0.5\n",
    "    center1 = center2 + (w2 + w1)*0.5    "
   ]
  },
  {
   "cell_type": "markdown",
   "metadata": {},
   "source": [
    "We check if it makes sense:"
   ]
  },
  {
   "cell_type": "code",
   "execution_count": 6,
   "metadata": {},
   "outputs": [
    {
     "name": "stdout",
     "output_type": "stream",
     "text": [
      "-----------\n",
      "Initializing structure...\n",
      "time for choose_chunkdivision = 1.28746e-05 s\n",
      "Working in 3D dimensions.\n",
      "Computational cell is 0.0078125 x 0.0078125 x 10 with resolution 128\n",
      "     block, center = (0,0,-4.9)\n",
      "          size (1e+20,1e+20,0.2)\n",
      "          axes (1,0,0), (0,1,0), (0,0,1)\n",
      "          dielectric constant epsilon diagonal = (13,13,13)\n",
      "     block, center = (0,0,-4.4)\n",
      "          size (1e+20,1e+20,0.8)\n",
      "          axes (1,0,0), (0,1,0), (0,0,1)\n",
      "          dielectric constant epsilon diagonal = (1,1,1)\n",
      "     block, center = (0,0,-3.9)\n",
      "          size (1e+20,1e+20,0.2)\n",
      "          axes (1,0,0), (0,1,0), (0,0,1)\n",
      "          dielectric constant epsilon diagonal = (13,13,13)\n",
      "     block, center = (0,0,-3.4)\n",
      "          size (1e+20,1e+20,0.8)\n",
      "          axes (1,0,0), (0,1,0), (0,0,1)\n",
      "          dielectric constant epsilon diagonal = (1,1,1)\n",
      "     block, center = (0,0,-2.9)\n",
      "          size (1e+20,1e+20,0.2)\n",
      "          axes (1,0,0), (0,1,0), (0,0,1)\n",
      "          dielectric constant epsilon diagonal = (13,13,13)\n",
      "     block, center = (0,0,-2.4)\n",
      "          size (1e+20,1e+20,0.8)\n",
      "          axes (1,0,0), (0,1,0), (0,0,1)\n",
      "          dielectric constant epsilon diagonal = (1,1,1)\n",
      "     block, center = (0,0,-1.9)\n",
      "          size (1e+20,1e+20,0.2)\n",
      "          axes (1,0,0), (0,1,0), (0,0,1)\n",
      "          dielectric constant epsilon diagonal = (13,13,13)\n",
      "     block, center = (0,0,-1.4)\n",
      "          size (1e+20,1e+20,0.8)\n",
      "          axes (1,0,0), (0,1,0), (0,0,1)\n",
      "          dielectric constant epsilon diagonal = (1,1,1)\n",
      "     block, center = (0,0,-0.9)\n",
      "          size (1e+20,1e+20,0.2)\n",
      "          axes (1,0,0), (0,1,0), (0,0,1)\n",
      "          dielectric constant epsilon diagonal = (13,13,13)\n",
      "     block, center = (0,0,-0.4)\n",
      "          size (1e+20,1e+20,0.8)\n",
      "          axes (1,0,0), (0,1,0), (0,0,1)\n",
      "          dielectric constant epsilon diagonal = (1,1,1)\n",
      "     ...(+ 10 objects not shown)...\n",
      "time for set_epsilon = 0.0530732 s\n",
      "-----------\n"
     ]
    }
   ],
   "source": [
    "sim = mp.Simulation(resolution=resolution,\n",
    "                    cell_size= mp.Vector3(0,0,sc_z),\n",
    "                    geometry=geometry)\n",
    "sim.init_sim()\n",
    "eps_data = sim.get_epsilon()"
   ]
  },
  {
   "cell_type": "code",
   "execution_count": 7,
   "metadata": {},
   "outputs": [
    {
     "data": {
      "text/plain": [
       "Text(0, 0.5, '$\\\\varepsilon$(z)')"
      ]
     },
     "execution_count": 7,
     "metadata": {},
     "output_type": "execute_result"
    },
    {
     "data": {
      "image/png": "[encoded data removed]",
      "text/plain": [
       "<Figure size 720x432 with 1 Axes>"
      ]
     },
     "metadata": {
      "needs_background": "light"
     },
     "output_type": "display_data"
    }
   ],
   "source": [
    "import matplotlib.pyplot as plt\n",
    "\n",
    "fig, ax = plt.subplots(figsize=(10,6))\n",
    "\n",
    "ax.plot(np.linspace(0,10,len(eps_data)),eps_data)\n",
    "ax.set_title('Dielectric profile for $\\\\varepsilon_1=13$ and $\\\\varepsilon_2=1$')\n",
    "ax.set_xlabel('z (a units)')\n",
    "ax.set_ylabel('$\\\\varepsilon$(z)')"
   ]
  },
  {
   "cell_type": "markdown",
   "metadata": {},
   "source": [
    "As we can see, **we doubled the width of the center layer**!"
   ]
  },
  {
   "cell_type": "markdown",
   "metadata": {},
   "source": [
    "Now we set up the $k$-space:"
   ]
  },
  {
   "cell_type": "code",
   "execution_count": 9,
   "metadata": {},
   "outputs": [],
   "source": [
    "num_bands = 50\n",
    "\n",
    "k_point = 0.5\n",
    "\n",
    "k_min = -0.05\n",
    "\n",
    "k_max = 0.05\n",
    "\n",
    "k_points = mp.Vector3(0,0,k_min), mp.Vector3(0,0,k_max)"
   ]
  },
  {
   "cell_type": "markdown",
   "metadata": {},
   "source": [
    "We can now call the run function to compute the bands:"
   ]
  },
  {
   "cell_type": "code",
   "execution_count": 10,
   "metadata": {},
   "outputs": [
    {
     "name": "stdout",
     "output_type": "stream",
     "text": [
      "Initializing eigensolver data\n",
      "Computing 50 bands with 1e-07 tolerance\n",
      "Working in 3 dimensions.\n",
      "Grid size is 1 x 1 x 1280.\n",
      "Solving for 10 bands at a time.\n",
      "Creating Maxwell data...\n",
      "Mesh size is 3.\n",
      "Lattice vectors:\n",
      "     (1, 0, 0)\n",
      "     (0, 1, 0)\n",
      "     (0, 0, 10)\n",
      "Cell volume = 10\n",
      "Reciprocal lattice vectors (/ 2 pi):\n",
      "     (1, -0, 0)\n",
      "     (-0, 1, -0)\n",
      "     (0, -0, 0.1)\n",
      "Geometric objects:\n",
      "     block, center = (0,0,-4.9)\n",
      "          size (1e+20,1e+20,0.2)\n",
      "          axes (1,0,0), (0,1,0), (0,0,1)\n",
      "     block, center = (0,0,-4.4)\n",
      "          size (1e+20,1e+20,0.8)\n",
      "          axes (1,0,0), (0,1,0), (0,0,1)\n",
      "     block, center = (0,0,-3.9)\n",
      "          size (1e+20,1e+20,0.2)\n",
      "          axes (1,0,0), (0,1,0), (0,0,1)\n",
      "     block, center = (0,0,-3.4)\n",
      "          size (1e+20,1e+20,0.8)\n",
      "          axes (1,0,0), (0,1,0), (0,0,1)\n",
      "     block, center = (0,0,-2.9)\n",
      "          size (1e+20,1e+20,0.2)\n",
      "          axes (1,0,0), (0,1,0), (0,0,1)\n",
      "     block, center = (0,0,-2.4)\n",
      "          size (1e+20,1e+20,0.8)\n",
      "          axes (1,0,0), (0,1,0), (0,0,1)\n",
      "     block, center = (0,0,-1.9)\n",
      "          size (1e+20,1e+20,0.2)\n",
      "          axes (1,0,0), (0,1,0), (0,0,1)\n",
      "     block, center = (0,0,-1.4)\n",
      "          size (1e+20,1e+20,0.8)\n",
      "          axes (1,0,0), (0,1,0), (0,0,1)\n",
      "     block, center = (0,0,-0.9)\n",
      "          size (1e+20,1e+20,0.2)\n",
      "          axes (1,0,0), (0,1,0), (0,0,1)\n",
      "     block, center = (0,0,-0.4)\n",
      "          size (1e+20,1e+20,0.8)\n",
      "          axes (1,0,0), (0,1,0), (0,0,1)\n",
      "     block, center = (0,0,0.4)\n",
      "          size (1e+20,1e+20,0.8)\n",
      "          axes (1,0,0), (0,1,0), (0,0,1)\n",
      "     block, center = (0,0,0.9)\n",
      "          size (1e+20,1e+20,0.2)\n",
      "          axes (1,0,0), (0,1,0), (0,0,1)\n",
      "     block, center = (0,0,1.4)\n",
      "          size (1e+20,1e+20,0.8)\n",
      "          axes (1,0,0), (0,1,0), (0,0,1)\n",
      "     block, center = (0,0,1.9)\n",
      "          size (1e+20,1e+20,0.2)\n",
      "          axes (1,0,0), (0,1,0), (0,0,1)\n",
      "     block, center = (0,0,2.4)\n",
      "          size (1e+20,1e+20,0.8)\n",
      "          axes (1,0,0), (0,1,0), (0,0,1)\n",
      "     block, center = (0,0,2.9)\n",
      "          size (1e+20,1e+20,0.2)\n",
      "          axes (1,0,0), (0,1,0), (0,0,1)\n",
      "     block, center = (0,0,3.4)\n",
      "          size (1e+20,1e+20,0.8)\n",
      "          axes (1,0,0), (0,1,0), (0,0,1)\n",
      "     block, center = (0,0,3.9)\n",
      "          size (1e+20,1e+20,0.2)\n",
      "          axes (1,0,0), (0,1,0), (0,0,1)\n",
      "     block, center = (0,0,4.4)\n",
      "          size (1e+20,1e+20,0.8)\n",
      "          axes (1,0,0), (0,1,0), (0,0,1)\n",
      "     block, center = (0,0,4.9)\n",
      "          size (1e+20,1e+20,0.2)\n",
      "          axes (1,0,0), (0,1,0), (0,0,1)\n",
      "Geometric object tree has depth 5 and 34 object nodes (vs. 20 actual objects)\n",
      "Initializing epsilon function...\n",
      "Allocating fields...\n",
      "Solving for band polarization: .\n",
      "Initializing fields to random numbers...\n",
      "2 k-points\n",
      "  Vector3<0.0, 0.0, -0.05>\n",
      "  Vector3<0.0, 0.0, 0.05>\n",
      "elapsed time for initialization: 0.10055279731750488\n",
      "solve_kpoint (0,0,-0.05):\n",
      "Solving for bands 1 to 10...\n",
      "Finished solving for bands 1 to 10 after 8 iterations.\n",
      "Solving for bands 11 to 20...\n",
      "Finished solving for bands 11 to 20 after 16 iterations.\n",
      "Solving for bands 21 to 30...\n",
      "Finished solving for bands 21 to 30 after 15 iterations.\n",
      "Solving for bands 31 to 40...\n",
      "Finished solving for bands 31 to 40 after 17 iterations.\n",
      "Solving for bands 41 to 50...\n",
      "Finished solving for bands 41 to 50 after 16 iterations.\n",
      "Finished k-point with 14.4 mean iterations/band.\n",
      "freqs:, 1, 0, 0, -0.05, 0.005, 0.00271211, 0.00271211, 0.0513211, 0.0513211, 0.0565675, 0.0565675, 0.103628, 0.103628, 0.108267, 0.108267, 0.151269, 0.151269, 0.154647, 0.154647, 0.188152, 0.188152, 0.189504, 0.189504, 0.319363, 0.319363, 0.338611, 0.338611, 0.467255, 0.467255, 0.468624, 0.468624, 0.501989, 0.501989, 0.505389, 0.505389, 0.54785, 0.54785, 0.552467, 0.552467, 0.598152, 0.598152, 0.60314, 0.60314, 0.63869, 0.63869, 0.677499, 0.677499, 0.713118, 0.713118, 0.718134, 0.718134, 0.763979, 0.763979, 0.768642, 0.768642\n",
      "elapsed time for k point: 1.0989668369293213\n",
      "solve_kpoint (0,0,0.05):\n",
      "Solving for bands 1 to 10...\n",
      "Finished solving for bands 1 to 10 after 5 iterations.\n",
      "Solving for bands 11 to 20...\n",
      "Finished solving for bands 11 to 20 after 6 iterations.\n",
      "Solving for bands 21 to 30...\n",
      "Finished solving for bands 21 to 30 after 6 iterations.\n",
      "Solving for bands 31 to 40...\n",
      "Finished solving for bands 31 to 40 after 7 iterations.\n",
      "Solving for bands 41 to 50...\n",
      "Finished solving for bands 41 to 50 after 6 iterations.\n",
      "Finished k-point with 6 mean iterations/band.\n",
      "freqs:, 2, 0, 0, 0.05, 0.005, 0.00271211, 0.00271211, 0.0513211, 0.0513211, 0.0565675, 0.0565675, 0.103628, 0.103628, 0.108267, 0.108267, 0.151269, 0.151269, 0.154647, 0.154647, 0.188152, 0.188152, 0.189504, 0.189504, 0.319363, 0.319363, 0.338611, 0.338611, 0.467255, 0.467255, 0.468624, 0.468624, 0.501989, 0.501989, 0.505389, 0.505389, 0.54785, 0.54785, 0.552467, 0.552467, 0.598152, 0.598152, 0.60314, 0.60314, 0.63869, 0.63869, 0.677499, 0.677499, 0.713118, 0.713118, 0.718134, 0.718134, 0.763979, 0.763979, 0.768642, 0.768642\n",
      "elapsed time for k point: 0.5395972728729248\n",
      "Band 1 range: 0.0027121112824800963 at Vector3<0.0, 0.0, -0.05> to 0.0027121112828903788 at Vector3<0.0, 0.0, 0.05>\n",
      "Band 2 range: 0.0027121112828832022 at Vector3<0.0, 0.0, -0.05> to 0.0027121113074985007 at Vector3<0.0, 0.0, 0.05>\n",
      "Band 3 range: 0.05132107394632103 at Vector3<0.0, 0.0, 0.05> to 0.05132107394924851 at Vector3<0.0, 0.0, -0.05>\n",
      "Band 4 range: 0.05132107394632879 at Vector3<0.0, 0.0, 0.05> to 0.05132107395076621 at Vector3<0.0, 0.0, -0.05>\n",
      "Band 5 range: 0.056567527044568945 at Vector3<0.0, 0.0, 0.05> to 0.056567527048381194 at Vector3<0.0, 0.0, -0.05>\n",
      "Band 6 range: 0.0565675270445963 at Vector3<0.0, 0.0, 0.05> to 0.05656752706234237 at Vector3<0.0, 0.0, -0.05>\n",
      "Band 7 range: 0.1036281349434653 at Vector3<0.0, 0.0, -0.05> to 0.10362813497170795 at Vector3<0.0, 0.0, 0.05>\n",
      "Band 8 range: 0.10362813497175488 at Vector3<0.0, 0.0, 0.05> to 0.10362813501088344 at Vector3<0.0, 0.0, -0.05>\n",
      "Band 9 range: 0.10826664089638431 at Vector3<0.0, 0.0, 0.05> to 0.10826664093075059 at Vector3<0.0, 0.0, -0.05>\n",
      "Band 10 range: 0.10826664089639917 at Vector3<0.0, 0.0, 0.05> to 0.10826664104188188 at Vector3<0.0, 0.0, -0.05>\n",
      "Band 11 range: 0.1512685409615136 at Vector3<0.0, 0.0, 0.05> to 0.15126854101346343 at Vector3<0.0, 0.0, -0.05>\n",
      "Band 12 range: 0.15126854096152906 at Vector3<0.0, 0.0, 0.05> to 0.15126854108866244 at Vector3<0.0, 0.0, -0.05>\n",
      "Band 13 range: 0.1546469157012304 at Vector3<0.0, 0.0, 0.05> to 0.1546469158140223 at Vector3<0.0, 0.0, -0.05>\n",
      "Band 14 range: 0.15464691570128908 at Vector3<0.0, 0.0, 0.05> to 0.1546469158955745 at Vector3<0.0, 0.0, -0.05>\n",
      "Band 15 range: 0.1881518648951604 at Vector3<0.0, 0.0, 0.05> to 0.18815186492780947 at Vector3<0.0, 0.0, -0.05>\n",
      "Band 16 range: 0.1881518648955849 at Vector3<0.0, 0.0, 0.05> to 0.18815186529775502 at Vector3<0.0, 0.0, -0.05>\n",
      "Band 17 range: 0.1895035578269961 at Vector3<0.0, 0.0, 0.05> to 0.18950355785210837 at Vector3<0.0, 0.0, -0.05>\n",
      "Band 18 range: 0.18950355782727055 at Vector3<0.0, 0.0, 0.05> to 0.18950355802682123 at Vector3<0.0, 0.0, -0.05>\n",
      "Band 19 range: 0.3193630292258674 at Vector3<0.0, 0.0, 0.05> to 0.3193630352763892 at Vector3<0.0, 0.0, -0.05>\n",
      "Band 20 range: 0.31936302922841314 at Vector3<0.0, 0.0, 0.05> to 0.3193630442538572 at Vector3<0.0, 0.0, -0.05>\n",
      "Band 21 range: 0.3386112329306632 at Vector3<0.0, 0.0, -0.05> to 0.33861124728743136 at Vector3<0.0, 0.0, 0.05>\n",
      "Band 22 range: 0.33861124128779907 at Vector3<0.0, 0.0, -0.05> to 0.3386112472885353 at Vector3<0.0, 0.0, 0.05>\n",
      "Band 23 range: 0.46725458219859584 at Vector3<0.0, 0.0, 0.05> to 0.46725458290188804 at Vector3<0.0, 0.0, -0.05>\n",
      "Band 24 range: 0.4672545822236678 at Vector3<0.0, 0.0, 0.05> to 0.4672545869423407 at Vector3<0.0, 0.0, -0.05>\n",
      "Band 25 range: 0.468624158348923 at Vector3<0.0, 0.0, 0.05> to 0.4686241589910154 at Vector3<0.0, 0.0, -0.05>\n",
      "Band 26 range: 0.46862415836683363 at Vector3<0.0, 0.0, 0.05> to 0.4686241599218331 at Vector3<0.0, 0.0, -0.05>\n",
      "Band 27 range: 0.5019886493582951 at Vector3<0.0, 0.0, 0.05> to 0.5019886505487152 at Vector3<0.0, 0.0, -0.05>\n",
      "Band 28 range: 0.5019886494914251 at Vector3<0.0, 0.0, 0.05> to 0.5019886516046662 at Vector3<0.0, 0.0, -0.05>\n",
      "Band 29 range: 0.5053888960137367 at Vector3<0.0, 0.0, -0.05> to 0.5053888970398052 at Vector3<0.0, 0.0, 0.05>\n",
      "Band 30 range: 0.5053888971094472 at Vector3<0.0, 0.0, 0.05> to 0.5053889072320261 at Vector3<0.0, 0.0, -0.05>\n",
      "Band 31 range: 0.5478499399037717 at Vector3<0.0, 0.0, -0.05> to 0.547849945525337 at Vector3<0.0, 0.0, 0.05>\n",
      "Band 32 range: 0.5478499455571915 at Vector3<0.0, 0.0, 0.05> to 0.5478499487973096 at Vector3<0.0, 0.0, -0.05>\n",
      "Band 33 range: 0.5524665718749875 at Vector3<0.0, 0.0, -0.05> to 0.5524665753229815 at Vector3<0.0, 0.0, 0.05>\n",
      "Band 34 range: 0.5524665754407967 at Vector3<0.0, 0.0, 0.05> to 0.5524665781543032 at Vector3<0.0, 0.0, -0.05>\n",
      "Band 35 range: 0.5981524714269519 at Vector3<0.0, 0.0, -0.05> to 0.5981524743766495 at Vector3<0.0, 0.0, 0.05>\n",
      "Band 36 range: 0.5981524744757936 at Vector3<0.0, 0.0, 0.05> to 0.5981524762394429 at Vector3<0.0, 0.0, -0.05>\n",
      "Band 37 range: 0.603139679772366 at Vector3<0.0, 0.0, 0.05> to 0.6031396799432408 at Vector3<0.0, 0.0, -0.05>\n",
      "Band 38 range: 0.6031396799524041 at Vector3<0.0, 0.0, 0.05> to 0.6031396821195506 at Vector3<0.0, 0.0, -0.05>\n",
      "Band 39 range: 0.6386901293244988 at Vector3<0.0, 0.0, 0.05> to 0.6386901344579743 at Vector3<0.0, 0.0, -0.05>\n",
      "Band 40 range: 0.6386901294509388 at Vector3<0.0, 0.0, 0.05> to 0.6386901464093037 at Vector3<0.0, 0.0, -0.05>\n",
      "Band 41 range: 0.6774985088366233 at Vector3<0.0, 0.0, -0.05> to 0.6774985209667689 at Vector3<0.0, 0.0, 0.05>\n",
      "Band 42 range: 0.6774985211520524 at Vector3<0.0, 0.0, 0.05> to 0.6774985261162985 at Vector3<0.0, 0.0, -0.05>\n",
      "Band 43 range: 0.7131182241502118 at Vector3<0.0, 0.0, -0.05> to 0.7131182264192203 at Vector3<0.0, 0.0, 0.05>\n",
      "Band 44 range: 0.7131182265725756 at Vector3<0.0, 0.0, 0.05> to 0.7131182306810556 at Vector3<0.0, 0.0, -0.05>\n",
      "Band 45 range: 0.7181338802068783 at Vector3<0.0, 0.0, 0.05> to 0.7181338822300053 at Vector3<0.0, 0.0, -0.05>\n",
      "Band 46 range: 0.7181338803368921 at Vector3<0.0, 0.0, 0.05> to 0.7181338876837824 at Vector3<0.0, 0.0, -0.05>\n",
      "Band 47 range: 0.7639788797943401 at Vector3<0.0, 0.0, -0.05> to 0.76397890624955 at Vector3<0.0, 0.0, 0.05>\n",
      "Band 48 range: 0.7639788847334316 at Vector3<0.0, 0.0, -0.05> to 0.7639789066939242 at Vector3<0.0, 0.0, 0.05>\n",
      "Band 49 range: 0.7686421804155962 at Vector3<0.0, 0.0, -0.05> to 0.7686422069022866 at Vector3<0.0, 0.0, 0.05>\n",
      "Band 50 range: 0.7686421926908468 at Vector3<0.0, 0.0, -0.05> to 0.768642207494341 at Vector3<0.0, 0.0, 0.05>\n",
      "Gap from band 2 (0.0027121113074985007) to band 3 (0.05132107394632103), 179.92262499603956%\n",
      "Gap from band 4 (0.05132107395076621) to band 5 (0.056567527044568945), 9.725685652425096%\n",
      "Gap from band 6 (0.05656752706234237) to band 7 (0.1036281349434653), 58.75391042663417%\n",
      "Gap from band 7 (0.10362813497170795) to band 8 (0.10362813497175488), 4.529144365941908e-11%\n",
      "Gap from band 8 (0.10362813501088344) to band 9 (0.10826664089638431), 4.378121985915154%\n",
      "Gap from band 10 (0.10826664104188188) to band 11 (0.1512685409615136), 33.13762672766972%\n",
      "Gap from band 12 (0.15126854108866244) to band 13 (0.1546469157012304), 2.2086982122569077%\n",
      "Gap from band 14 (0.1546469158955745) to band 15 (0.1881518648951604), 19.547881076064467%\n",
      "Gap from band 16 (0.18815186529775502) to band 17 (0.1895035578269961), 0.7158337714613344%\n",
      "Gap from band 18 (0.18950355802682123) to band 19 (0.3193630292258674), 51.03871012641734%\n",
      "Gap from band 20 (0.3193630442538572) to band 21 (0.3386112329306632), 5.850741995316055%\n",
      "Gap from band 22 (0.3386112472885353) to band 23 (0.46725458219859584), 31.926737728023948%\n",
      "Gap from band 24 (0.4672545869423407) to band 25 (0.468624158348923), 0.2926813785382208%\n",
      "Gap from band 26 (0.4686241599218331) to band 27 (0.5019886493582951), 6.874932850145957%\n",
      "Gap from band 28 (0.5019886516046662) to band 29 (0.5053888960137367), 0.6750685315767068%\n",
      "Gap from band 29 (0.5053888970398052) to band 30 (0.5053888971094472), 1.3779897083572734e-08%\n",
      "Gap from band 30 (0.5053889072320261) to band 31 (0.5478499399037717), 8.062944656326556%\n",
      "Gap from band 31 (0.547849945525337) to band 32 (0.5478499455571915), 5.814460562020025e-09%\n",
      "Gap from band 32 (0.5478499487973096) to band 33 (0.5524665718749875), 0.8391445535793788%\n",
      "Gap from band 33 (0.5524665753229815) to band 34 (0.5524665754407967), 2.132530858672231e-08%\n",
      "Gap from band 34 (0.5524665781543032) to band 35 (0.5981524714269519), 7.9410980183710995%\n",
      "Gap from band 35 (0.5981524743766495) to band 36 (0.5981524744757936), 1.6575042411578273e-08%\n",
      "Gap from band 36 (0.5981524762394429) to band 37 (0.603139679772366), 0.8303065175219743%\n",
      "Gap from band 37 (0.6031396799432408) to band 38 (0.6031396799524041), 1.519272742400054e-09%\n",
      "Gap from band 38 (0.6031396821195506) to band 39 (0.6386901293244988), 5.725494246849924%\n",
      "Gap from band 40 (0.6386901464093037) to band 41 (0.6774985088366233), 5.897082044073447%\n",
      "Gap from band 41 (0.6774985209667689) to band 42 (0.6774985211520524), 2.7348187561757076e-08%\n",
      "Gap from band 42 (0.6774985261162985) to band 43 (0.7131182241502118), 5.122863366500773%\n",
      "Gap from band 43 (0.7131182264192203) to band 44 (0.7131182265725756), 2.1504895364914634e-08%\n",
      "Gap from band 44 (0.7131182306810556) to band 45 (0.7181338802068783), 0.7008757559436566%\n",
      "Gap from band 46 (0.7181338876837824) to band 47 (0.7639788797943401), 6.186437782135147%\n",
      "Gap from band 48 (0.7639789066939242) to band 49 (0.7686421804155962), 0.6085357641094146%\n",
      "total elapsed time for run: 1.742170810699463\n",
      "done\n"
     ]
    }
   ],
   "source": [
    "ms = mpb.ModeSolver(geometry_lattice=geometry_lattice,\n",
    "                    geometry=geometry,\n",
    "                    k_points=k_points,\n",
    "                    resolution=resolution,\n",
    "                    num_bands=num_bands);\n",
    "ms.run();"
   ]
  },
  {
   "cell_type": "code",
   "execution_count": 11,
   "metadata": {},
   "outputs": [],
   "source": [
    "efield = -np.real(np.reshape(ms.get_efield(19)[:,:,:,0],resolution*10)) # X component of field"
   ]
  },
  {
   "cell_type": "code",
   "execution_count": 12,
   "metadata": {},
   "outputs": [
    {
     "name": "stdout",
     "output_type": "stream",
     "text": [
      "epsilon: 1-13, mean 3.39844, harm. mean 1.23546, 21.0156% > 1, 19.987% \"fill\"\n"
     ]
    },
    {
     "data": {
      "text/plain": [
       "[]"
      ]
     },
     "execution_count": 12,
     "metadata": {},
     "output_type": "execute_result"
    },
    {
     "data": {
      "image/png": "[encoded data removed]",
      "text/plain": [
       "<Figure size 1296x576 with 2 Axes>"
      ]
     },
     "metadata": {
      "needs_background": "light"
     },
     "output_type": "display_data"
    }
   ],
   "source": [
    "eps = ms.get_epsilon();\n",
    "\n",
    "eps = np.repeat(eps[np.newaxis, :], resolution*5, axis=0)\n",
    "\n",
    "fig, ax = plt.subplots(figsize=(18,8))\n",
    "pos0 = ax.imshow(eps, cmap='Blues')\n",
    "fig.colorbar(pos0,ax=ax)\n",
    "ax.plot(efield*1000+300, c='r', linewidth=4)\n",
    "ax.invert_yaxis()\n",
    "ax.set_title('$E$ field for mode at top of band $19$')\n",
    "plt.tick_params(axis = \"x\", which = \"both\", bottom = False, top = False)\n",
    "ax.set_xticks([])\n",
    "ax.set_yticks([])"
   ]
  },
  {
   "cell_type": "markdown",
   "metadata": {},
   "source": [
    "For a supercell the original bands are folded many times over, in this case, 10 times, so we need to compute many more bands to reach the same frequencies. In the `run` function ouptut we see that: `Band 19 range: 0.32`, which is the frequency corresponding to the Photonic Band Gap computed in the QWS exercise. Therefore, this state was pushed up into the gap by the defect."
   ]
  },
  {
   "cell_type": "code",
   "execution_count": 13,
   "metadata": {},
   "outputs": [
    {
     "name": "stdout",
     "output_type": "stream",
     "text": [
      "D-energy-components:, 2, 19, 0.0485841, 0.951416, 0\n",
      "Percentage of energy in defect layer: 0.7196613386812097\n"
     ]
    }
   ],
   "source": [
    "ms.get_dfield(19)  # compute the D field for band 19\n",
    "ms.compute_field_energy()  # compute the energy density from D\n",
    "c = mp.Block(size=mp.Vector3(mp.inf, mp.inf, 2*w2),\n",
    "                     center=mp.Vector3(0,0,0), material=Med_2)\n",
    "print(\"Percentage of energy in defect layer: {}\".format(ms.compute_energy_in_objects([c])))"
   ]
  },
  {
   "cell_type": "markdown",
   "metadata": {},
   "source": [
    "**Over 71% of the field energy in this localized region**; the field decays exponentially into the bulk crystal."
   ]
  },
  {
   "cell_type": "markdown",
   "metadata": {},
   "source": [
    "We could also have computed one band, taking into account the limits of the Photonic Band Gap in the QWS example:"
   ]
  },
  {
   "cell_type": "code",
   "execution_count": 14,
   "metadata": {},
   "outputs": [],
   "source": [
    "ms.num_bands = 1  # only need to compute a single band, now!\n",
    "ms.target_freq = (0.2+ 0.45) / 2\n",
    "ms.tolerance = 1e-8"
   ]
  },
  {
   "cell_type": "code",
   "execution_count": 15,
   "metadata": {},
   "outputs": [
    {
     "name": "stdout",
     "output_type": "stream",
     "text": [
      "Initializing eigensolver data\n",
      "Computing 1 bands with 1e-08 tolerance\n",
      "Target frequency is 0.325\n",
      "Working in 3 dimensions.\n",
      "Grid size is 1 x 1 x 1280.\n",
      "Solving for 1 bands at a time.\n",
      "Creating Maxwell data...\n",
      "Mesh size is 3.\n",
      "Lattice vectors:\n",
      "     (1, 0, 0)\n",
      "     (0, 1, 0)\n",
      "     (0, 0, 10)\n",
      "Cell volume = 10\n",
      "Reciprocal lattice vectors (/ 2 pi):\n",
      "     (1, -0, 0)\n",
      "     (-0, 1, -0)\n",
      "     (0, -0, 0.1)\n",
      "Geometric objects:\n",
      "     block, center = (0,0,-4.9)\n",
      "          size (1e+20,1e+20,0.2)\n",
      "          axes (1,0,0), (0,1,0), (0,0,1)\n",
      "     block, center = (0,0,-4.4)\n",
      "          size (1e+20,1e+20,0.8)\n",
      "          axes (1,0,0), (0,1,0), (0,0,1)\n",
      "     block, center = (0,0,-3.9)\n",
      "          size (1e+20,1e+20,0.2)\n",
      "          axes (1,0,0), (0,1,0), (0,0,1)\n",
      "     block, center = (0,0,-3.4)\n",
      "          size (1e+20,1e+20,0.8)\n",
      "          axes (1,0,0), (0,1,0), (0,0,1)\n",
      "     block, center = (0,0,-2.9)\n",
      "          size (1e+20,1e+20,0.2)\n",
      "          axes (1,0,0), (0,1,0), (0,0,1)\n",
      "     block, center = (0,0,-2.4)\n",
      "          size (1e+20,1e+20,0.8)\n",
      "          axes (1,0,0), (0,1,0), (0,0,1)\n",
      "     block, center = (0,0,-1.9)\n",
      "          size (1e+20,1e+20,0.2)\n",
      "          axes (1,0,0), (0,1,0), (0,0,1)\n",
      "     block, center = (0,0,-1.4)\n",
      "          size (1e+20,1e+20,0.8)\n",
      "          axes (1,0,0), (0,1,0), (0,0,1)\n",
      "     block, center = (0,0,-0.9)\n",
      "          size (1e+20,1e+20,0.2)\n",
      "          axes (1,0,0), (0,1,0), (0,0,1)\n",
      "     block, center = (0,0,-0.4)\n",
      "          size (1e+20,1e+20,0.8)\n",
      "          axes (1,0,0), (0,1,0), (0,0,1)\n",
      "     block, center = (0,0,0.4)\n",
      "          size (1e+20,1e+20,0.8)\n",
      "          axes (1,0,0), (0,1,0), (0,0,1)\n",
      "     block, center = (0,0,0.9)\n",
      "          size (1e+20,1e+20,0.2)\n",
      "          axes (1,0,0), (0,1,0), (0,0,1)\n",
      "     block, center = (0,0,1.4)\n",
      "          size (1e+20,1e+20,0.8)\n",
      "          axes (1,0,0), (0,1,0), (0,0,1)\n",
      "     block, center = (0,0,1.9)\n",
      "          size (1e+20,1e+20,0.2)\n",
      "          axes (1,0,0), (0,1,0), (0,0,1)\n",
      "     block, center = (0,0,2.4)\n",
      "          size (1e+20,1e+20,0.8)\n",
      "          axes (1,0,0), (0,1,0), (0,0,1)\n",
      "     block, center = (0,0,2.9)\n",
      "          size (1e+20,1e+20,0.2)\n",
      "          axes (1,0,0), (0,1,0), (0,0,1)\n",
      "     block, center = (0,0,3.4)\n",
      "          size (1e+20,1e+20,0.8)\n",
      "          axes (1,0,0), (0,1,0), (0,0,1)\n",
      "     block, center = (0,0,3.9)\n",
      "          size (1e+20,1e+20,0.2)\n",
      "          axes (1,0,0), (0,1,0), (0,0,1)\n",
      "     block, center = (0,0,4.4)\n",
      "          size (1e+20,1e+20,0.8)\n",
      "          axes (1,0,0), (0,1,0), (0,0,1)\n",
      "     block, center = (0,0,4.9)\n",
      "          size (1e+20,1e+20,0.2)\n",
      "          axes (1,0,0), (0,1,0), (0,0,1)\n",
      "Geometric object tree has depth 5 and 34 object nodes (vs. 20 actual objects)\n",
      "Initializing epsilon function...\n",
      "Allocating fields...\n",
      "Solving for band polarization: .\n",
      "Initializing fields to random numbers...\n",
      "2 k-points\n",
      "  Vector3<0.0, 0.0, -0.05>\n",
      "  Vector3<0.0, 0.0, 0.05>\n",
      "elapsed time for initialization: 0.10772967338562012\n",
      "solve_kpoint (0,0,-0.05):\n",
      "Solving for bands 1 to 1...\n",
      "Finished solving for bands 1 to 1 after 381 iterations.\n",
      "freqs:, 1, 0, 0, -0.05, 0.005, 0.250568\n",
      "elapsed time for k point: 0.3020496368408203\n",
      "solve_kpoint (0,0,0.05):\n",
      "Solving for bands 1 to 1...\n",
      "Finished solving for bands 1 to 1 after 54 iterations.\n",
      "freqs:, 2, 0, 0, 0.05, 0.005, 0.274133\n",
      "elapsed time for k point: 0.042214155197143555\n",
      "Band 1 range: 0.2505684725414618 at Vector3<0.0, 0.0, -0.05> to 0.27413325423787693 at Vector3<0.0, 0.0, 0.05>\n",
      "total elapsed time for run: 0.452315092086792\n",
      "done\n"
     ]
    }
   ],
   "source": [
    "ms.run();"
   ]
  },
  {
   "cell_type": "markdown",
   "metadata": {},
   "source": [
    "As expected, **we find the band and the correct range of frequencies**!"
   ]
  }
 ],
 "metadata": {
  "kernelspec": {
   "display_name": "Python 3",
   "language": "python",
   "name": "python3"
  },
  "language_info": {
   "codemirror_mode": {
    "name": "ipython",
    "version": 3
   },
   "file_extension": ".py",
   "mimetype": "text/x-python",
   "name": "python",
   "nbconvert_exporter": "python",
   "pygments_lexer": "ipython3",
   "version": "3.8.10"
  }
 },
 "nbformat": 4,
 "nbformat_minor": 4
}
