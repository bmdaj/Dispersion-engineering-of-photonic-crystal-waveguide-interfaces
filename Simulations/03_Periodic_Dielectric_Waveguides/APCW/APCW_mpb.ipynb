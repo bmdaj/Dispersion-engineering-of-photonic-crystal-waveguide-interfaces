{
 "cells": [
  {
   "cell_type": "markdown",
   "metadata": {},
   "source": [
    "# APCW"
   ]
  },
  {
   "cell_type": "markdown",
   "metadata": {},
   "source": [
    "We import the necessary modules:"
   ]
  },
  {
   "cell_type": "code",
   "execution_count": 1,
   "metadata": {},
   "outputs": [],
   "source": [
    "import meep as mp\n",
    "from meep import mpb\n",
    "import numpy as np\n",
    "\n",
    "import matplotlib.pyplot as plt\n",
    "plt.rcParams.update({'font.size': 16})\n",
    "plt.rcParams.update({\n",
    "    \"text.usetex\": True,\n",
    "    \"font.family\": \"sans-serif\",\n",
    "    \"font.sans-serif\": [\"Helvetica\"]})\n",
    "# for Palatino and other serif fonts use:\n",
    "plt.rcParams.update({\n",
    "    \"text.usetex\": True,\n",
    "    \"font.family\": \"serif\",\n",
    "    \"font.serif\": [\"Palatino\"],\n",
    "})"
   ]
  },
  {
   "cell_type": "markdown",
   "metadata": {},
   "source": [
    "We import the necessary functions:"
   ]
  },
  {
   "cell_type": "code",
   "execution_count": 2,
   "metadata": {},
   "outputs": [],
   "source": [
    "import sys\n",
    "sys.path.append(\"/home/ben/Desktop/Thesis/github/Thesis_name/Simulations/\")"
   ]
  },
  {
   "cell_type": "code",
   "execution_count": 3,
   "metadata": {},
   "outputs": [],
   "source": [
    "from ExternalFunctions import (geom_apcw,plot_bands_1D_THZ, calculate_efield, plot_epsilon_YZ,\n",
    "                               plot_field_2D_YZ, simulation_domain)"
   ]
  },
  {
   "cell_type": "markdown",
   "metadata": {},
   "source": [
    "##  Defining the sinusoidal dielectric blocks"
   ]
  },
  {
   "cell_type": "markdown",
   "metadata": {},
   "source": [
    "We define some boolean values for executing purposes:"
   ]
  },
  {
   "cell_type": "code",
   "execution_count": 4,
   "metadata": {},
   "outputs": [],
   "source": [
    "plot = False\n",
    "simulate = False\n",
    "save = False"
   ]
  },
  {
   "cell_type": "markdown",
   "metadata": {},
   "source": [
    "First, we define some parameters that describe the geometry:"
   ]
  },
  {
   "cell_type": "code",
   "execution_count": 5,
   "metadata": {},
   "outputs": [],
   "source": [
    "ax = 3.7                                    #  e-7 meters\n",
    "ay = 15\n",
    "az = 15\n",
    "\n",
    "# The cell dimensions\n",
    "\n",
    "sx = 3.7 / ax\n",
    "sy = 15                                     # size of cell in y direction (perpendicular to wvg.)\n",
    "sz = 15                                     # size of cell in z direction (perpendicular to wvg.)\n",
    "\n",
    "\n",
    "cell = mp.Vector3(sx, sy, sz)\n",
    "geometry_lattice = mp.Lattice(size=mp.Vector3(sx,sy, sz))\n",
    "\n",
    "\n",
    "resolution = 4"
   ]
  },
  {
   "cell_type": "markdown",
   "metadata": {},
   "source": [
    "We define the parameters for the APCW:"
   ]
  },
  {
   "cell_type": "code",
   "execution_count": 6,
   "metadata": {},
   "outputs": [],
   "source": [
    "index = 1.9935                              # refractive index of Si3N4\n",
    "period = 3.7 / ax\n",
    "amp = 1.4 /ax\n",
    "width = 2.88 /ax\n",
    "thickness = 2 /ax\n",
    "gap = 2.2 /ax\n",
    "dephase = 0.0\n",
    "params = [ index, period, amp, width, thickness, gap,  dephase ]"
   ]
  },
  {
   "cell_type": "code",
   "execution_count": 7,
   "metadata": {},
   "outputs": [],
   "source": [
    "eps_func = geom_apcw(params)\n",
    "default_material = eps_func"
   ]
  },
  {
   "cell_type": "markdown",
   "metadata": {},
   "source": [
    "If this is set to **TRUE** we can plot a 3D image of the geometry:"
   ]
  },
  {
   "cell_type": "code",
   "execution_count": 8,
   "metadata": {},
   "outputs": [],
   "source": [
    "if plot == True:\n",
    "    from mayavi import mlab\n",
    "    sim = mp.Simulation(resolution=resolution,\n",
    "                    cell_size=mp.Vector3(sx,sy,sz),\n",
    "                    material_function=default_material)\n",
    "\n",
    "    sim.init_sim()\n",
    "\n",
    "    eps_data = sim.get_epsilon()\n",
    "    eps_data = np.concatenate([eps_data,eps_data,eps_data])\n",
    "    s = mlab.contour3d(eps_data, colormap=\"YlGnBu\")\n",
    "    mlab.show()"
   ]
  },
  {
   "cell_type": "markdown",
   "metadata": {},
   "source": [
    "If this is set to **TRUE**  we can simulate the geometry:"
   ]
  },
  {
   "cell_type": "code",
   "execution_count": 9,
   "metadata": {},
   "outputs": [],
   "source": [
    "if simulate == True:\n",
    "    \n",
    "    num_bands = 10\n",
    "\n",
    "    num_k = 1\n",
    "    k_min = 0\n",
    "    k_max = 0.5 \n",
    "\n",
    "    k_points = mp.interpolate(num_k, [mp.Vector3(k_min), mp.Vector3(k_max)])\n",
    "    \n",
    "    ms = mpb.ModeSolver(geometry_lattice=geometry_lattice,\n",
    "                    k_points=k_points,\n",
    "                    default_material=default_material,\n",
    "                    resolution=resolution,\n",
    "                    num_bands=num_bands);\n",
    "    ms.run();"
   ]
  },
  {
   "cell_type": "code",
   "execution_count": 10,
   "metadata": {},
   "outputs": [],
   "source": [
    "if plot == True: \n",
    "    a = 3.7\n",
    "    num_bands = 1\n",
    "    k_point = mp.Vector3(0.5,0)\n",
    "    sim_params = geometry_lattice,  k_point, default_material, resolution, num_bands\n",
    "    num_period =  3\n",
    "    \n",
    "    ylim = [-10,10]                                                                 \n",
    "    zlim = [-4,4]\n",
    "    \n",
    "    title = \"Dielectric material distribution\"\n",
    "    \n",
    "    fig, ax = plot_epsilon_YZ(sim_params,  a, num_period, ylim,  zlim, title)"
   ]
  },
  {
   "cell_type": "markdown",
   "metadata": {},
   "source": [
    "## Band diagram calculation:"
   ]
  },
  {
   "cell_type": "code",
   "execution_count": null,
   "metadata": {},
   "outputs": [],
   "source": [
    "import os\n",
    "path = os.path.abspath(os.getcwd())\n",
    "print(path)"
   ]
  },
  {
   "cell_type": "code",
   "execution_count": null,
   "metadata": {},
   "outputs": [],
   "source": [
    "f1 = np.genfromtxt(path+\"/data/APCW_mpb_bands_TE.dat\", delimiter=\",\")[:,1:]\n",
    "f2 = np.genfromtxt(path+\"/data/APCW_mpb_bands_TM.dat\", delimiter=\",\")[:,1:]"
   ]
  },
  {
   "cell_type": "code",
   "execution_count": null,
   "metadata": {},
   "outputs": [],
   "source": [
    "a = 3.7 * 1e-7\n",
    "num_bands = 3\n",
    "files = f1, f2\n",
    "xlims = [0.87,1]\n",
    "ylims = [320,380]\n",
    "fig = plot_bands_1D_THZ(a, num_bands, files, xlims, ylims)"
   ]
  },
  {
   "cell_type": "markdown",
   "metadata": {},
   "source": [
    "As we can see the TE band edges can be aligned with the D1 and D2 transitions of the Cs atom."
   ]
  },
  {
   "cell_type": "code",
   "execution_count": null,
   "metadata": {},
   "outputs": [],
   "source": [
    "if save == True:\n",
    "    fig.savefig(\"results/Dispersion_relation_APCW.pdf\")"
   ]
  },
  {
   "cell_type": "markdown",
   "metadata": {},
   "source": [
    "## Field calculation"
   ]
  },
  {
   "cell_type": "markdown",
   "metadata": {},
   "source": [
    "We define our simulation parameteres:"
   ]
  },
  {
   "cell_type": "code",
   "execution_count": null,
   "metadata": {},
   "outputs": [],
   "source": [
    "resolution = 12\n",
    "num_bands = 4\n",
    "k_point = mp.Vector3(0.5,0)\n",
    "\n",
    "sim_params = geometry_lattice,  k_point, default_material, resolution, num_bands"
   ]
  },
  {
   "cell_type": "code",
   "execution_count": null,
   "metadata": {},
   "outputs": [],
   "source": [
    "num_period = 5\n",
    "component = \"Z\"\n",
    "fields, epsilon = calculate_efield(sim_params, num_period, component)"
   ]
  },
  {
   "cell_type": "code",
   "execution_count": null,
   "metadata": {},
   "outputs": [],
   "source": [
    "a = ax\n",
    "eps = epsilon\n",
    "\n",
    "domain_limits = simulation_domain (a, eps, resolution)"
   ]
  },
  {
   "cell_type": "code",
   "execution_count": null,
   "metadata": {},
   "outputs": [],
   "source": [
    "num_band = 0\n",
    "eps = epsilon\n",
    "field = fields\n",
    "ylim = [-10,10]                                                                 #in 0.1 micrometers\n",
    "zlim = [-8,8]                                                                   #in 0.1 micrometers\n",
    "a = ax\n",
    "title = \"$E_z$ field  for first band\"\n",
    "fig, ax = plot_field_2D_YZ(eps, field, a, resolution, num_band, ylim,  zlim, title)\n",
    "ax.set_xlabel('Y distance (0.1 $\\\\mu$ m)')\n",
    "ax.set_ylabel('Z distance (0.1 $\\\\mu$ m)')"
   ]
  },
  {
   "cell_type": "code",
   "execution_count": null,
   "metadata": {},
   "outputs": [],
   "source": [
    "num_band = 1\n",
    "title = \"$E_z$ field  for second band\"\n",
    "fig, ax = plot_field_2D_YZ(eps, field, a, resolution, num_band, ylim,  zlim, title)\n",
    "ax.set_xlabel('Y distance (0.1 $\\\\mu$ m)')\n",
    "ax.set_ylabel('Z distance (0.1 $\\\\mu$ m)')"
   ]
  },
  {
   "cell_type": "code",
   "execution_count": null,
   "metadata": {},
   "outputs": [],
   "source": [
    "num_band = 2\n",
    "title = \"$E_z$ field  for third band\"\n",
    "fig, ax = plot_field_2D_YZ(eps, field, a, resolution, num_band, ylim,  zlim, title)\n",
    "ax.set_xlabel('Y distance (0.1 $\\\\mu$ m)')\n",
    "ax.set_ylabel('Z distance (0.1 $\\\\mu$ m)')"
   ]
  }
 ],
 "metadata": {
  "kernelspec": {
   "display_name": "Python 3",
   "language": "python",
   "name": "python3"
  },
  "language_info": {
   "codemirror_mode": {
    "name": "ipython",
    "version": 3
   },
   "file_extension": ".py",
   "mimetype": "text/x-python",
   "name": "python",
   "nbconvert_exporter": "python",
   "pygments_lexer": "ipython3",
   "version": "3.8.10"
  }
 },
 "nbformat": 4,
 "nbformat_minor": 4
}
