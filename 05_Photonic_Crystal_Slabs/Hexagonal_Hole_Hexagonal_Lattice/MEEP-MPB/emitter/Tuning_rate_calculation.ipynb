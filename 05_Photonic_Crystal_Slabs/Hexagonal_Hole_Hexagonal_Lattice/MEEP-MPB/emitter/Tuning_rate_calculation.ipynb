{
 "cells": [
  {
   "cell_type": "markdown",
   "metadata": {},
   "source": [
    "# Tuning rate calculation"
   ]
  },
  {
   "cell_type": "code",
   "execution_count": 1,
   "metadata": {
    "jupyter": {
     "source_hidden": true
    }
   },
   "outputs": [],
   "source": [
    "import meep as mp \n",
    "import numpy as np\n",
    "import matplotlib.pyplot as plt\n",
    "from hexalattice.hexalattice import *\n",
    "\n",
    "plt.rcParams.update({'font.size': 16})\n",
    "plt.rcParams.update({\n",
    "    \"text.usetex\": True,\n",
    "    \"font.family\": \"sans-serif\",\n",
    "    \"font.sans-serif\": [\"Helvetica\"]})\n",
    "# for Palatino and other serif fonts use:\n",
    "plt.rcParams.update({\n",
    "    \"text.usetex\": True,\n",
    "    \"font.family\": \"serif\",\n",
    "    \"font.serif\": [\"Palatino\"],\n",
    "})"
   ]
  },
  {
   "cell_type": "markdown",
   "metadata": {},
   "source": [
    "We calculate the tuning rate for different directions of the imaginary part of the green function for the maximum supression in the band-gap:"
   ]
  },
  {
   "cell_type": "markdown",
   "metadata": {},
   "source": [
    "## Z axis displacement"
   ]
  },
  {
   "cell_type": "code",
   "execution_count": 2,
   "metadata": {},
   "outputs": [],
   "source": [
    "pos_0_nm_z_tensor = np.loadtxt('data/0.0_nm_z_axis_green_tensor.txt')\n",
    "pos_100_nm_z_tensor = np.loadtxt('data/100_nm_z_axis_green_tensor.txt')\n",
    "pos_200_nm_z_tensor = np.loadtxt('data/200_nm_z_axis_green_tensor.txt')"
   ]
  },
  {
   "cell_type": "code",
   "execution_count": 3,
   "metadata": {},
   "outputs": [],
   "source": [
    "minima_x = np.array([np.min(pos_0_nm_z_tensor, axis=1)[0], np.min(pos_100_nm_z_tensor, axis=1)[0], np.min(pos_200_nm_z_tensor, axis=1)[0]])\n",
    "minima_y = np.array([np.min(pos_0_nm_z_tensor, axis=1)[1], np.min(pos_100_nm_z_tensor, axis=1)[1], np.min(pos_200_nm_z_tensor, axis=1)[1]])\n",
    "minima_z = np.array([np.min(pos_0_nm_z_tensor, axis=1)[2], np.min(pos_100_nm_z_tensor, axis=1)[2], np.min(pos_200_nm_z_tensor, axis=1)[2]])"
   ]
  },
  {
   "cell_type": "code",
   "execution_count": 4,
   "metadata": {},
   "outputs": [
    {
     "data": {
      "text/plain": [
       "<matplotlib.collections.PathCollection at 0x7fe0bcfa5fa0>"
      ]
     },
     "execution_count": 4,
     "metadata": {},
     "output_type": "execute_result"
    },
    {
     "data": {
      "image/png": "[encoded data removed]",
      "text/plain": [
       "<Figure size 432x288 with 1 Axes>"
      ]
     },
     "metadata": {
      "needs_background": "light"
     },
     "output_type": "display_data"
    }
   ],
   "source": [
    "x = np.array([0,100,200])\n",
    "\n",
    "plt.scatter(x,minima_x)"
   ]
  },
  {
   "cell_type": "markdown",
   "metadata": {},
   "source": [
    "We seem to have a linear relation, so calculating the slope of the curve we can get the tuning rates:"
   ]
  },
  {
   "cell_type": "code",
   "execution_count": 5,
   "metadata": {},
   "outputs": [],
   "source": [
    "def f(x, A, B):\n",
    "    return  A*x+B"
   ]
  },
  {
   "cell_type": "code",
   "execution_count": 6,
   "metadata": {},
   "outputs": [],
   "source": [
    "from  scipy.optimize import curve_fit\n",
    "\n",
    "opt_params_x, _ = curve_fit(f, x, minima_x)\n",
    "opt_params_y, _ = curve_fit(f, x, minima_y)\n",
    "opt_params_z, _ = curve_fit(f, x, minima_z)"
   ]
  },
  {
   "cell_type": "code",
   "execution_count": 7,
   "metadata": {},
   "outputs": [
    {
     "data": {
      "text/plain": [
       "[<matplotlib.lines.Line2D at 0x7fe0a101e0a0>]"
      ]
     },
     "execution_count": 7,
     "metadata": {},
     "output_type": "execute_result"
    },
    {
     "data": {
      "image/png": "[encoded data removed]",
      "text/plain": [
       "<Figure size 432x288 with 1 Axes>"
      ]
     },
     "metadata": {
      "needs_background": "light"
     },
     "output_type": "display_data"
    }
   ],
   "source": [
    "x = np.array([0,100,200])\n",
    "\n",
    "plt.scatter(x,minima_x)\n",
    "plt.plot(np.linspace(0,200,200), np.linspace(0,200,200)*opt_params_x[0]+np.ones(200)*opt_params_x[1])"
   ]
  },
  {
   "cell_type": "code",
   "execution_count": 8,
   "metadata": {},
   "outputs": [
    {
     "name": "stdout",
     "output_type": "stream",
     "text": [
      "Tuning rate for X direction:  0.3301 units / 100 nm\n",
      "Tuning rate for Y direction:  0.3832 units / 100 nm\n",
      "Tuning rate for Z direction:  0.2434 units / 100 nm\n"
     ]
    }
   ],
   "source": [
    "print('Tuning rate for X direction: ',round(opt_params_x[0]*100,4),'units / 100 nm')\n",
    "print('Tuning rate for Y direction: ',round(opt_params_y[0]*100,4),'units / 100 nm')\n",
    "print('Tuning rate for Z direction: ',round(opt_params_z[0]*100,4),'units / 100 nm')"
   ]
  },
  {
   "cell_type": "markdown",
   "metadata": {},
   "source": [
    "## Y axis displacement"
   ]
  },
  {
   "cell_type": "code",
   "execution_count": 9,
   "metadata": {},
   "outputs": [],
   "source": [
    "pos_0_nm_y_tensor = np.loadtxt('data/0.0_nm_y_axis_green_tensor.txt')\n",
    "pos_100_nm_y_tensor = np.loadtxt('data/100_nm_y_axis_green_tensor.txt')\n",
    "pos_200_nm_y_tensor = np.loadtxt('data/200_nm_y_axis_green_tensor.txt')"
   ]
  },
  {
   "cell_type": "code",
   "execution_count": 10,
   "metadata": {},
   "outputs": [],
   "source": [
    "minima_x = np.array([np.min(pos_0_nm_y_tensor, axis=1)[0], np.min(pos_100_nm_y_tensor, axis=1)[0], np.min(pos_200_nm_y_tensor, axis=1)[0]])\n",
    "minima_y = np.array([np.min(pos_0_nm_y_tensor, axis=1)[1], np.min(pos_100_nm_y_tensor, axis=1)[1], np.min(pos_200_nm_y_tensor, axis=1)[1]])\n",
    "minima_z = np.array([np.min(pos_0_nm_y_tensor, axis=1)[2], np.min(pos_100_nm_y_tensor, axis=1)[2], np.min(pos_200_nm_y_tensor, axis=1)[2]])"
   ]
  },
  {
   "cell_type": "code",
   "execution_count": 11,
   "metadata": {},
   "outputs": [
    {
     "data": {
      "text/plain": [
       "<matplotlib.collections.PathCollection at 0x7fe0a0fe94f0>"
      ]
     },
     "execution_count": 11,
     "metadata": {},
     "output_type": "execute_result"
    },
    {
     "data": {
      "image/png": "[encoded data removed]",
      "text/plain": [
       "<Figure size 432x288 with 1 Axes>"
      ]
     },
     "metadata": {
      "needs_background": "light"
     },
     "output_type": "display_data"
    }
   ],
   "source": [
    "x = np.array([0,100,200])\n",
    "\n",
    "plt.scatter(x,minima_y)"
   ]
  },
  {
   "cell_type": "code",
   "execution_count": 12,
   "metadata": {},
   "outputs": [],
   "source": [
    "def f(x, A, B):\n",
    "    return  A*x+B"
   ]
  },
  {
   "cell_type": "code",
   "execution_count": 13,
   "metadata": {},
   "outputs": [],
   "source": [
    "from  scipy.optimize import curve_fit\n",
    "\n",
    "opt_params_x, _ = curve_fit(f, x, minima_x)\n",
    "opt_params_y, _ = curve_fit(f, x, minima_y)\n",
    "opt_params_z, _ = curve_fit(f, x, minima_z)"
   ]
  },
  {
   "cell_type": "code",
   "execution_count": 14,
   "metadata": {},
   "outputs": [
    {
     "name": "stdout",
     "output_type": "stream",
     "text": [
      "Tuning rate for X direction:  0.123 units / 100 nm\n",
      "Tuning rate for Y direction:  0.1135 units / 100 nm\n",
      "Tuning rate for Z direction:  0.0372 units / 100 nm\n"
     ]
    }
   ],
   "source": [
    "print('Tuning rate for X direction: ',round(opt_params_x[0]*100,4),'units / 100 nm')\n",
    "print('Tuning rate for Y direction: ',round(opt_params_y[0]*100,4),'units / 100 nm')\n",
    "print('Tuning rate for Z direction: ',round(opt_params_z[0]*100,4),'units / 100 nm')"
   ]
  },
  {
   "cell_type": "markdown",
   "metadata": {},
   "source": [
    "## X axis displacement"
   ]
  },
  {
   "cell_type": "code",
   "execution_count": 15,
   "metadata": {},
   "outputs": [],
   "source": [
    "pos_0_nm_x_tensor = np.loadtxt('data/0.0_nm_x_axis_green_tensor.txt')\n",
    "pos_100_nm_x_tensor = np.loadtxt('data/100_nm_x_axis_green_tensor.txt')\n",
    "pos_200_nm_x_tensor = np.loadtxt('data/200_nm_x_axis_green_tensor.txt')"
   ]
  },
  {
   "cell_type": "code",
   "execution_count": 16,
   "metadata": {},
   "outputs": [],
   "source": [
    "minima_x = np.array([np.min(pos_0_nm_x_tensor, axis=1)[0], np.min(pos_100_nm_x_tensor, axis=1)[0], np.min(pos_200_nm_x_tensor, axis=1)[0]])\n",
    "minima_y = np.array([np.min(pos_0_nm_x_tensor, axis=1)[1], np.min(pos_100_nm_x_tensor, axis=1)[1], np.min(pos_200_nm_x_tensor, axis=1)[1]])\n",
    "minima_z = np.array([np.min(pos_0_nm_x_tensor, axis=1)[2], np.min(pos_100_nm_x_tensor, axis=1)[2], np.min(pos_200_nm_x_tensor, axis=1)[2]])"
   ]
  },
  {
   "cell_type": "code",
   "execution_count": 17,
   "metadata": {},
   "outputs": [
    {
     "data": {
      "text/plain": [
       "<matplotlib.collections.PathCollection at 0x7fe0a0f4fa00>"
      ]
     },
     "execution_count": 17,
     "metadata": {},
     "output_type": "execute_result"
    },
    {
     "data": {
      "image/png": "[encoded data removed]",
      "text/plain": [
       "<Figure size 432x288 with 1 Axes>"
      ]
     },
     "metadata": {
      "needs_background": "light"
     },
     "output_type": "display_data"
    }
   ],
   "source": [
    "x = np.array([0,100,200])\n",
    "\n",
    "plt.scatter(x,minima_x)"
   ]
  },
  {
   "cell_type": "code",
   "execution_count": 18,
   "metadata": {},
   "outputs": [],
   "source": [
    "def f(x, A, B):\n",
    "    return  A*x+B"
   ]
  },
  {
   "cell_type": "code",
   "execution_count": 23,
   "metadata": {},
   "outputs": [
    {
     "name": "stderr",
     "output_type": "stream",
     "text": [
      "/home/ben/.local/lib/python3.8/site-packages/scipy/optimize/minpack.py:833: OptimizeWarning: Covariance of the parameters could not be estimated\n",
      "  warnings.warn('Covariance of the parameters could not be estimated',\n"
     ]
    }
   ],
   "source": [
    "from  scipy.optimize import curve_fit\n",
    "\n",
    "opt_params_x, _ = curve_fit(f, np.array([x[0],x[1]]), np.array([minima_x[0],minima_x[1]]))\n",
    "opt_params_y, _ = curve_fit(f, x, minima_y)\n",
    "opt_params_z, _ = curve_fit(f, x, minima_z)"
   ]
  },
  {
   "cell_type": "code",
   "execution_count": 24,
   "metadata": {},
   "outputs": [
    {
     "name": "stdout",
     "output_type": "stream",
     "text": [
      "Tuning rate for X direction:  0.0909 units / 100 nm\n",
      "Tuning rate for Y direction:  0.2211 units / 100 nm\n",
      "Tuning rate for Z direction:  0.0321 units / 100 nm\n"
     ]
    }
   ],
   "source": [
    "print('Tuning rate for X direction: ',round(opt_params_x[0]*100,4),'units / 100 nm')\n",
    "print('Tuning rate for Y direction: ',round(opt_params_y[0]*100,4),'units / 100 nm')\n",
    "print('Tuning rate for Z direction: ',round(opt_params_z[0]*100,4),'units / 100 nm')"
   ]
  }
 ],
 "metadata": {
  "kernelspec": {
   "display_name": "Python 3",
   "language": "python",
   "name": "python3"
  },
  "language_info": {
   "codemirror_mode": {
    "name": "ipython",
    "version": 3
   },
   "file_extension": ".py",
   "mimetype": "text/x-python",
   "name": "python",
   "nbconvert_exporter": "python",
   "pygments_lexer": "ipython3",
   "version": "3.8.10"
  }
 },
 "nbformat": 4,
 "nbformat_minor": 4
}
