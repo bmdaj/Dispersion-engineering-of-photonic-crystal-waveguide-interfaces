{
 "cells": [
  {
   "cell_type": "code",
   "execution_count": 3,
   "metadata": {},
   "outputs": [],
   "source": [
    "import meep as mp\n",
    "from meep import mpb\n",
    "\n",
    "import numpy as np\n",
    "\n",
    "import matplotlib.pyplot as plt\n",
    "plt.rcParams.update({'font.size': 16})\n",
    "plt.rcParams.update({\n",
    "    \"text.usetex\": True,\n",
    "    \"font.family\": \"sans-serif\",\n",
    "    \"font.sans-serif\": [\"Helvetica\"]})\n",
    "# for Palatino and other serif fonts use:\n",
    "plt.rcParams.update({\n",
    "    \"text.usetex\": True,\n",
    "    \"font.family\": \"serif\",\n",
    "    \"font.serif\": [\"Palatino\"],\n",
    "})"
   ]
  },
  {
   "cell_type": "code",
   "execution_count": 4,
   "metadata": {},
   "outputs": [],
   "source": [
    "import sys\n",
    "sys.path.append(\"/home/ben/Desktop/Thesis/github/Thesis_name/Simulations/\")\n",
    "from ExternalFunctions import (calculate_ifield)#, plot_field_2D_YZ)"
   ]
  },
  {
   "cell_type": "code",
   "execution_count": 5,
   "metadata": {},
   "outputs": [],
   "source": [
    "save = True\n",
    "plot = True\n",
    "simulate = False"
   ]
  },
  {
   "cell_type": "code",
   "execution_count": 6,
   "metadata": {},
   "outputs": [],
   "source": [
    "resolution = 24\n",
    "num_bands = 4\n",
    "\n",
    "a = 290 # nm\n",
    "r = 103 / a \n",
    "t = 200 / a\n",
    "\n",
    "sx = 1 \n",
    "sy = 1 \n",
    "sz = 10 \n",
    "cell = mp.Vector3(sx, sy, sz)\n",
    "geometry_lattice = mp.Lattice(size=mp.Vector3(1, 1, sz))\n",
    "\n",
    "geometry = [mp.Block(center=mp.Vector3(0,0,0), size=mp.Vector3(mp.inf,mp.inf,t), material=mp.Medium(index = 1.9935))]\n",
    "geometry.append(mp.Cylinder(radius=r, height = t, material=mp.Medium(epsilon=1)))"
   ]
  },
  {
   "cell_type": "code",
   "execution_count": 7,
   "metadata": {},
   "outputs": [],
   "source": [
    "md = mpb.MPBData(rectify=True, periods=3, resolution=resolution)"
   ]
  },
  {
   "cell_type": "code",
   "execution_count": 8,
   "metadata": {},
   "outputs": [
    {
     "name": "stdout",
     "output_type": "stream",
     "text": [
      "Initializing eigensolver data\n",
      "Computing 4 bands with 1e-07 tolerance\n",
      "Working in 3 dimensions.\n",
      "Grid size is 24 x 24 x 240.\n",
      "Solving for 4 bands at a time.\n",
      "Creating Maxwell data...\n",
      "Mesh size is 3.\n",
      "Lattice vectors:\n",
      "     (1, 0, 0)\n",
      "     (0, 1, 0)\n",
      "     (0, 0, 10)\n",
      "Cell volume = 10\n",
      "Reciprocal lattice vectors (/ 2 pi):\n",
      "     (1, -0, 0)\n",
      "     (-0, 1, -0)\n",
      "     (0, -0, 0.1)\n",
      "Geometric objects:\n",
      "     block, center = (0,0,0)\n",
      "          size (1e+20,1e+20,0.689655)\n",
      "          axes (1,0,0), (0,1,0), (0,0,1)\n",
      "     cylinder, center = (0,0,0)\n",
      "          radius 0.355172, height 0.689655, axis (0, 0, 1)\n",
      "Geometric object tree has depth 1 and 10 object nodes (vs. 2 actual objects)\n",
      "Initializing epsilon function...\n",
      "Allocating fields...\n",
      "Solving for band polarization: .\n",
      "Initializing fields to random numbers...\n",
      "1 k-points\n",
      "  Vector3<0.5, 0.0, 0.0>\n",
      "elapsed time for initialization: 0.2434852123260498\n",
      "solve_kpoint (0.5,0,0):\n",
      "Solving for bands 1 to 4...\n",
      "Finished solving for bands 1 to 4 after 14 iterations.\n",
      "freqs:, 1, 0.5, 0, 0, 0.5, 0.34178, 0.404064, 0.425506, 0.429686\n",
      "elapsed time for k point: 10.772430181503296\n",
      "total elapsed time for run: 11.01620078086853\n",
      "done\n"
     ]
    }
   ],
   "source": [
    "ms = mpb.ModeSolver(\n",
    "        geometry=geometry,\n",
    "        geometry_lattice=geometry_lattice,\n",
    "        k_points=[mp.Vector3(0.5,0.0,0.0)], #X point\n",
    "        resolution=resolution,\n",
    "        num_bands=num_bands\n",
    "    )\n",
    "ms.run();"
   ]
  },
  {
   "cell_type": "code",
   "execution_count": 9,
   "metadata": {},
   "outputs": [
    {
     "name": "stdout",
     "output_type": "stream",
     "text": [
      "epsilon: 1-3.97404, mean 1.12371, harm. mean 1.03376, 4.63759% > 1, 4.15979% \"fill\"\n"
     ]
    }
   ],
   "source": [
    "eps = ms.get_epsilon()\n",
    "converted_eps = md.convert(eps)"
   ]
  },
  {
   "cell_type": "code",
   "execution_count": 10,
   "metadata": {},
   "outputs": [
    {
     "name": "stdout",
     "output_type": "stream",
     "text": [
      "(72, 72, 720)\n"
     ]
    }
   ],
   "source": [
    "print(np.shape(converted_eps))"
   ]
  },
  {
   "cell_type": "code",
   "execution_count": 11,
   "metadata": {},
   "outputs": [
    {
     "data": {
      "image/png": "[encoded data removed]",
      "text/plain": [
       "<Figure size 432x288 with 1 Axes>"
      ]
     },
     "metadata": {
      "needs_background": "light"
     },
     "output_type": "display_data"
    }
   ],
   "source": [
    "half_index  = int(np.shape(np.array(converted_eps))[2]/2)\n",
    "third_index = int(np.shape(np.array(converted_eps))[2]/3)\n",
    "\n",
    "plt.imshow(converted_eps[:,:, half_index], interpolation='spline36', cmap='binary')\n",
    "plt.axis('off')\n",
    "plt.show()"
   ]
  },
  {
   "cell_type": "code",
   "execution_count": 12,
   "metadata": {},
   "outputs": [
    {
     "data": {
      "image/png": "[encoded data removed]",
      "text/plain": [
       "<Figure size 432x288 with 1 Axes>"
      ]
     },
     "metadata": {
      "needs_background": "light"
     },
     "output_type": "display_data"
    }
   ],
   "source": [
    "plt.imshow(np.rot90(converted_eps[36,:,:third_index],2).T, interpolation='spline36', cmap='binary')\n",
    "plt.axis('off')\n",
    "plt.show()"
   ]
  },
  {
   "cell_type": "code",
   "execution_count": 13,
   "metadata": {},
   "outputs": [
    {
     "name": "stdout",
     "output_type": "stream",
     "text": [
      "Initializing eigensolver data\n",
      "Computing 4 bands with 1e-07 tolerance\n",
      "Working in 3 dimensions.\n",
      "Grid size is 24 x 24 x 240.\n",
      "Solving for 4 bands at a time.\n",
      "Creating Maxwell data...\n",
      "Mesh size is 3.\n",
      "Lattice vectors:\n",
      "     (1, 0, 0)\n",
      "     (0, 1, 0)\n",
      "     (0, 0, 10)\n",
      "Cell volume = 10\n",
      "Reciprocal lattice vectors (/ 2 pi):\n",
      "     (1, -0, 0)\n",
      "     (-0, 1, -0)\n",
      "     (0, -0, 0.1)\n",
      "Geometric objects:\n",
      "     block, center = (0,0,0)\n",
      "          size (1e+20,1e+20,0.689655)\n",
      "          axes (1,0,0), (0,1,0), (0,0,1)\n",
      "     cylinder, center = (0,0,0)\n",
      "          radius 0.355172, height 0.689655, axis (0, 0, 1)\n",
      "Geometric object tree has depth 1 and 10 object nodes (vs. 2 actual objects)\n",
      "Initializing epsilon function...\n",
      "Allocating fields...\n",
      "Solving for band polarization: .\n",
      "Initializing fields to random numbers...\n",
      "1 k-points\n",
      "  Vector3<0.5, 0.0, 0.0>\n",
      "elapsed time for initialization: 0.2563459873199463\n",
      "solve_kpoint (0.5,0,0):\n",
      "Solving for bands 1 to 4...\n",
      "Finished solving for bands 1 to 4 after 18 iterations.\n",
      "freqs:, 1, 0.5, 0, 0, 0.5, 0.34178, 0.404064, 0.425506, 0.429686\n",
      "elapsed time for k point: 10.230005979537964\n",
      "Fixing e-field (band 1) phase by 0.999701 + -0.0244449i; max ampl. = 1.17727\n",
      "Fixing e-field (band 2) phase by -0.842409 + -0.538839i; max ampl. = 1.12021\n",
      "Fixing e-field (band 3) phase by 0.675042 + -0.73778i; max ampl. = 1.25266\n",
      "Fixing e-field (band 4) phase by 0.653358 + 0.757049i; max ampl. = 1.41448\n",
      "total elapsed time for run: 10.731105089187622\n",
      "done\n",
      "epsilon: 1-3.97404, mean 1.12371, harm. mean 1.03376, 4.63759% > 1, 4.15979% \"fill\"\n"
     ]
    }
   ],
   "source": [
    "num_period = 3\n",
    "k_point = mp.Vector3(0.5,0.0,0.0)\n",
    "\n",
    "sim_params = geometry_lattice,  k_point, geometry, resolution, num_bands\n",
    "\n",
    "field, converted_eps = calculate_ifield(sim_params, num_period)"
   ]
  },
  {
   "cell_type": "code",
   "execution_count": 14,
   "metadata": {},
   "outputs": [
    {
     "name": "stdout",
     "output_type": "stream",
     "text": [
      "(4, 72, 72, 720)\n"
     ]
    }
   ],
   "source": [
    "print(np.shape(field))"
   ]
  },
  {
   "cell_type": "code",
   "execution_count": 15,
   "metadata": {},
   "outputs": [
    {
     "name": "stdout",
     "output_type": "stream",
     "text": [
      "(72, 72, 720)\n"
     ]
    }
   ],
   "source": [
    "print(np.shape(converted_eps.T))"
   ]
  },
  {
   "cell_type": "code",
   "execution_count": 16,
   "metadata": {},
   "outputs": [
    {
     "name": "stdout",
     "output_type": "stream",
     "text": [
      "(72, 72, 720)\n"
     ]
    }
   ],
   "source": [
    "print(np.shape(np.real(field)[0]))"
   ]
  },
  {
   "cell_type": "code",
   "execution_count": 37,
   "metadata": {},
   "outputs": [],
   "source": [
    "def plot_field_2D_YZ (eps, field, a, resolution, num_band, ylim,  zlim, title):\n",
    "    \n",
    "    fig, ax = plt.subplots(figsize=(12,10))\n",
    "    ax.set_title(title)\n",
    "    \n",
    "    x_half_index = int( np.shape(eps)[0] // 2 )\n",
    "    distance_conversion = resolution / a\n",
    "    \n",
    "    ymin, ymax = ylim\n",
    "    zmin, zmax = zlim\n",
    "    \n",
    "    y_offset = int(np.array(np.shape(eps))[1]//2)\n",
    "    z_offset = int(np.array(np.shape(eps))[2]//2)\n",
    "    \n",
    "    ymin_index = int( ymin * distance_conversion ) + y_offset\n",
    "    ymax_index = int( ymax * distance_conversion ) + y_offset\n",
    "    zmin_index = int( zmin * distance_conversion ) + z_offset\n",
    "    zmax_index = int( zmax * distance_conversion ) + z_offset\n",
    "    \n",
    "    extent = [zmin , zmax, ymin , ymax]\n",
    "        \n",
    "    y_range = np.linspace(ymin,ymax,ymax_index-ymin_index) \n",
    "    z_range = np.linspace(zmin,zmax,zmax_index-zmin_index)\n",
    "    \n",
    "    if len(np.shape(field)) == 4:\n",
    "        \n",
    "        field = np.array(field) [:,x_half_index,:,:]\n",
    "    \n",
    "    ax.contour(eps[x_half_index,ymin_index:ymax_index,zmin_index:zmax_index], extent=extent, cmap='binary')\n",
    "    \n",
    "    posd1 = ax.imshow(np.real(field[num_band][ymin_index:ymax_index,zmin_index:zmax_index]), extent=extent, interpolation='spline36', cmap='plasma')\n",
    "    ax.set_ylabel('Y distance (nm)')\n",
    "    ax.set_xlabel('Z distance (nm)')\n",
    "    fig.colorbar(posd1,ax=ax)\n",
    "    \n",
    "    return fig, ax"
   ]
  },
  {
   "cell_type": "code",
   "execution_count": 39,
   "metadata": {},
   "outputs": [
    {
     "data": {
      "text/plain": [
       "(<Figure size 864x720 with 2 Axes>,\n",
       " <AxesSubplot:title={'center':'YZ projection of I field'}, xlabel='Z distance', ylabel='Y distance'>)"
      ]
     },
     "execution_count": 39,
     "metadata": {},
     "output_type": "execute_result"
    },
    {
     "data": {
      "image/png": "[encoded data removed]",
      "text/plain": [
       "<Figure size 864x720 with 2 Axes>"
      ]
     },
     "metadata": {
      "needs_background": "light"
     },
     "output_type": "display_data"
    }
   ],
   "source": [
    "eps = converted_eps.T\n",
    "a = 290  # nanometers\n",
    "num_band = 0\n",
    "ylim = [-600,600]\n",
    "zlim = [-600,600]\n",
    "title = 'YZ projection of I field'\n",
    "\n",
    "plot_field_2D_YZ(eps, np.array(field), a, resolution*3, num_band, ylim, zlim, title)"
   ]
  },
  {
   "cell_type": "code",
   "execution_count": null,
   "metadata": {},
   "outputs": [],
   "source": [
    "converted_z = []\n",
    "converted_y = []\n",
    "\n",
    "for f in efields:\n",
    "    # Get just the components of the electric fields and calculate intensity\n",
    "    efieldx = md.convert(f[... , 0])\n",
    "    efieldy = md.convert(f[... , 1]) \n",
    "    efieldz = md.convert(f[... , 2])\n",
    "    f1 = (efieldx*np.conjugate(efieldx)+efieldy*np.conjugate(efieldy)+efieldz*np.conjugate(efieldz)) [:,:,half_index]\n",
    "    f2 = (efieldx*np.conjugate(efieldx)+efieldy*np.conjugate(efieldy)+efieldz*np.conjugate(efieldz)) [:,int(half_index/10),:third_index]\n",
    "    converted_z.append(np.real(f1))\n",
    "    converted_y.append(np.real(f2))"
   ]
  },
  {
   "cell_type": "code",
   "execution_count": null,
   "metadata": {},
   "outputs": [],
   "source": [
    "fig2, ax2 = plt.subplots(1,2,figsize=(16,6))\n",
    "ax2[0].set_title('$I$ field at $X$ for band 1')\n",
    "ax2[1].set_title('$I$ field at $X$ for band 1')\n",
    "ax2[0].contour(converted_eps[:,:,half_index].T, cmap='binary')\n",
    "ax2[1].contour(np.rot90(converted_eps[int(half_index/10),:,:],2).T, cmap='binary')\n",
    "posd1 = ax2[0].imshow(converted_z[0].T, interpolation='spline36', cmap='plasma')\n",
    "posd2 = ax2[1].imshow(np.rot90(converted_y[0],2).T[:,:], interpolation='spline36', cmap='plasma')\n",
    "ax2[0].set_xticks([])\n",
    "ax2[0].set_xticklabels([]);\n",
    "ax2[0].set_yticks([])\n",
    "ax2[0].set_yticklabels([]);\n",
    "ax2[1].set_xticks([])\n",
    "ax2[1].set_xticklabels([]);\n",
    "ax2[1].set_yticks([])\n",
    "ax2[1].set_yticklabels([]);\n",
    "fig2.colorbar(posd1,ax=ax2[0])\n",
    "fig2.colorbar(posd2,ax=ax2[1])"
   ]
  },
  {
   "cell_type": "code",
   "execution_count": null,
   "metadata": {},
   "outputs": [],
   "source": [
    "fig, ax = plt.subplots(figsize=(16,6))\n",
    "ax.set_title('$I$ profile at $X$ for band 1')\n",
    "\n",
    "z = np.linspace(-3*t*a,3*t*a,np.shape(converted_y[0] [int(half_index/10),:])[0])\n",
    "intens = converted_y[0] [int(half_index/10),:]\n",
    "\n",
    "ax.scatter( z, intens)\n",
    "ax.set_ylabel('I')\n",
    "ax.set_xlabel('z (nm)')"
   ]
  },
  {
   "cell_type": "code",
   "execution_count": null,
   "metadata": {},
   "outputs": [],
   "source": [
    "np.savetxt('intens_te_diel.dat', np.array([z,intens]))"
   ]
  },
  {
   "cell_type": "code",
   "execution_count": null,
   "metadata": {},
   "outputs": [],
   "source": [
    "fig2, ax2 = plt.subplots(1,2,figsize=(16,6))\n",
    "ax2[0].set_title('$I$ at $X$ for band 2')\n",
    "ax2[1].set_title('$I$ at $X$ for band 2')\n",
    "ax2[0].contour(converted_eps[:,:,half_index].T, cmap='binary')\n",
    "ax2[1].contour(np.rot90(converted_eps[int(half_index/10),:,:],2).T, cmap='binary')\n",
    "posd1 = ax2[0].imshow(converted_z[1].T, interpolation='spline36', cmap='plasma')\n",
    "posd2 = ax2[1].imshow(converted_y[1].T[:,:], interpolation='spline36', cmap='plasma')\n",
    "ax2[0].set_xticks([])\n",
    "ax2[0].set_xticklabels([]);\n",
    "ax2[0].set_yticks([])\n",
    "ax2[0].set_yticklabels([]);\n",
    "ax2[1].set_xticks([])\n",
    "ax2[1].set_xticklabels([]);\n",
    "ax2[1].set_yticks([])\n",
    "ax2[1].set_yticklabels([]);\n",
    "fig2.colorbar(posd1,ax=ax2[0])\n",
    "fig2.colorbar(posd2,ax=ax2[1])"
   ]
  },
  {
   "cell_type": "code",
   "execution_count": null,
   "metadata": {},
   "outputs": [],
   "source": [
    "fig, ax = plt.subplots(figsize=(16,6))\n",
    "ax.set_title('$I$ profile at $X$ for band 1')\n",
    "\n",
    "z = np.linspace(-3*t*a,3*t*a,np.shape(converted_y[1] [int(half_index/10),:])[0])\n",
    "intens = converted_y[1] [int(half_index/10),:]\n",
    "\n",
    "ax.scatter( z, intens)\n",
    "ax.set_ylabel('I')\n",
    "ax.set_xlabel('z (nm)')"
   ]
  },
  {
   "cell_type": "code",
   "execution_count": null,
   "metadata": {},
   "outputs": [],
   "source": [
    "np.savetxt('intens_tm_diel.dat', np.array([z,intens]))"
   ]
  },
  {
   "cell_type": "code",
   "execution_count": null,
   "metadata": {},
   "outputs": [],
   "source": [
    "fig2, ax2 = plt.subplots(1,2,figsize=(16,6))\n",
    "ax2[0].set_title('$I$ at $X$ for band 3')\n",
    "ax2[1].set_title('$I$ at $X$ for band 3')\n",
    "ax2[0].contour(converted_eps[:,:,half_index].T, cmap='binary')\n",
    "ax2[1].contour(np.rot90(converted_eps[int(half_index/10),:,:],2).T, cmap='binary')\n",
    "posd1 = ax2[0].imshow(converted_z[2].T, interpolation='spline36', cmap='plasma')\n",
    "posd2 = ax2[1].imshow(converted_y[2].T[:,:], interpolation='spline36', cmap='plasma')\n",
    "ax2[0].set_xticks([])\n",
    "ax2[0].set_xticklabels([]);\n",
    "ax2[0].set_yticks([])\n",
    "ax2[0].set_yticklabels([]);\n",
    "ax2[1].set_xticks([])\n",
    "ax2[1].set_xticklabels([]);\n",
    "ax2[1].set_yticks([])\n",
    "ax2[1].set_yticklabels([]);\n",
    "fig2.colorbar(posd1,ax=ax2[0])\n",
    "fig2.colorbar(posd2,ax=ax2[1])"
   ]
  },
  {
   "cell_type": "code",
   "execution_count": null,
   "metadata": {},
   "outputs": [],
   "source": [
    "fig2.savefig('intensity_2D_profiles.pdf')\n",
    "fig2.savefig('intensity_2D_profiles.png')"
   ]
  },
  {
   "cell_type": "code",
   "execution_count": null,
   "metadata": {},
   "outputs": [],
   "source": [
    "fig, ax = plt.subplots(figsize=(16,6))\n",
    "ax.set_title('$I$ profile at $X$ for band 1')\n",
    "\n",
    "z = np.linspace(-3*t*a,3*t*a,np.shape(converted_y[2] [int(half_index/10),:])[0])\n",
    "intens = converted_y[2] [int(half_index/10),:]\n",
    "\n",
    "ax.scatter( z, intens)\n",
    "ax.set_ylabel('I')\n",
    "ax.set_xlabel('z (nm)')"
   ]
  },
  {
   "cell_type": "code",
   "execution_count": null,
   "metadata": {},
   "outputs": [],
   "source": [
    "np.savetxt('intens_te_air.dat', np.array([z,intens]))"
   ]
  },
  {
   "cell_type": "code",
   "execution_count": null,
   "metadata": {},
   "outputs": [],
   "source": [
    "fig2, ax2 = plt.subplots(1,2,figsize=(16,6))\n",
    "ax2[0].set_title('$I$ at $X$ for band 4')\n",
    "ax2[1].set_title('$I$ at $X$ for band 4')\n",
    "ax2[0].contour(converted_eps[:,:,half_index].T, cmap='binary')\n",
    "ax2[1].contour(np.rot90(converted_eps[int(half_index/10),:,:],2).T, cmap='binary')\n",
    "posd1 = ax2[0].imshow(converted_z[3].T, interpolation='spline36', cmap='plasma')\n",
    "posd2 = ax2[1].imshow(converted_y[3].T[:,:], interpolation='spline36', cmap='plasma')\n",
    "ax2[0].set_xticks([])\n",
    "ax2[0].set_xticklabels([]);\n",
    "ax2[0].set_yticks([])\n",
    "ax2[0].set_yticklabels([]);\n",
    "ax2[1].set_xticks([])\n",
    "ax2[1].set_xticklabels([]);\n",
    "ax2[1].set_yticks([])\n",
    "ax2[1].set_yticklabels([]);\n",
    "fig2.colorbar(posd1,ax=ax2[0])\n",
    "fig2.colorbar(posd2,ax=ax2[1])"
   ]
  },
  {
   "cell_type": "code",
   "execution_count": null,
   "metadata": {},
   "outputs": [],
   "source": [
    "fig, ax = plt.subplots(figsize=(16,6))\n",
    "ax.set_title('$I$ profile at $X$ for band 1')\n",
    "\n",
    "z = np.linspace(-3*t*a,3*t*a,np.shape(converted_y[3] [int(half_index/10),:])[0])\n",
    "intens = converted_y[3] [int(half_index/10),:]\n",
    "\n",
    "ax.scatter( z, intens)\n",
    "ax.set_ylabel('I')\n",
    "ax.set_xlabel('z (nm)')"
   ]
  },
  {
   "cell_type": "code",
   "execution_count": null,
   "metadata": {},
   "outputs": [],
   "source": [
    "np.savetxt('intens_tm_air.dat', np.array([z,intens]))"
   ]
  }
 ],
 "metadata": {
  "kernelspec": {
   "display_name": "Python 3",
   "language": "python",
   "name": "python3"
  },
  "language_info": {
   "codemirror_mode": {
    "name": "ipython",
    "version": 3
   },
   "file_extension": ".py",
   "mimetype": "text/x-python",
   "name": "python",
   "nbconvert_exporter": "python",
   "pygments_lexer": "ipython3",
   "version": "3.8.10"
  }
 },
 "nbformat": 4,
 "nbformat_minor": 4
}
