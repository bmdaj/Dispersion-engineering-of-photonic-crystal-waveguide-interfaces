{
 "cells": [
  {
   "cell_type": "markdown",
   "metadata": {},
   "source": [
    "# Calculating FOMs in LUMERICAL for a photonic crystal slab"
   ]
  },
  {
   "cell_type": "markdown",
   "metadata": {},
   "source": [
    "Author: Beñat Martinez de Aguirre"
   ]
  },
  {
   "cell_type": "markdown",
   "metadata": {},
   "source": [
    "## Imports"
   ]
  },
  {
   "cell_type": "markdown",
   "metadata": {},
   "source": [
    "Some global variables to be used during the code:"
   ]
  },
  {
   "cell_type": "code",
   "execution_count": 45,
   "metadata": {},
   "outputs": [],
   "source": [
    "global c\n",
    "c=3e8 #speed of light"
   ]
  },
  {
   "cell_type": "markdown",
   "metadata": {},
   "source": [
    "First, we want to make sure that we can access the Lumerical's python and its packages. Then we can import `lumapi`"
   ]
  },
  {
   "cell_type": "code",
   "execution_count": 46,
   "metadata": {},
   "outputs": [],
   "source": [
    "import sys, os\n",
    "\n",
    "sys.path.append(\"/opt/lumerical/v212/api/python/\")  # Default windows lumapi path\n",
    "sys.path.append(\"/opt/lumerical/v212/api/\")\n",
    "sys.path.append(\"/opt/lumerical/v212/bin/\")\n",
    "sys.path.append(\"/home/bmda/anaconda3/envs/pmp/lib/python3.9/site-packages/\")\n",
    "\n",
    "import lumapi"
   ]
  },
  {
   "cell_type": "markdown",
   "metadata": {},
   "source": [
    "We also want to import some stuff that will be useful later, to run processes, plot, etc."
   ]
  },
  {
   "cell_type": "code",
   "execution_count": 47,
   "metadata": {},
   "outputs": [],
   "source": [
    "import subprocess\n",
    "\n",
    "import numpy as np\n",
    "\n",
    "import matplotlib.pyplot as plt\n",
    "import matplotlib as mpl\n",
    "plt.style.use(\"science\")\n",
    "mpl.rcParams.update({\"font.size\": 28})"
   ]
  },
  {
   "cell_type": "markdown",
   "metadata": {},
   "source": [
    "Now, we will create some functions that will be able to create .fsp files that are then run by `Lumerical`."
   ]
  },
  {
   "cell_type": "markdown",
   "metadata": {},
   "source": [
    "## Setting up the FDTD simulation"
   ]
  },
  {
   "cell_type": "markdown",
   "metadata": {},
   "source": [
    "First, we want to let `Lumerical` know that we will run a `FDTD` calculation and with how many processes we want run it:"
   ]
  },
  {
   "cell_type": "code",
   "execution_count": 48,
   "metadata": {},
   "outputs": [],
   "source": [
    "fdtd = lumapi.FDTD(hide=True)\n",
    "fdtd.setresource(\"FDTD\", 1, \"processes\", \"4\")  # We use 4 processes"
   ]
  },
  {
   "cell_type": "markdown",
   "metadata": {},
   "source": [
    "## Creating the simulation area"
   ]
  },
  {
   "cell_type": "markdown",
   "metadata": {},
   "source": [
    "To define our simulation we need to define the physical boundaries of the simulation as well as the time that the simulation will span across. Also important is the `mesh accuracy`, which is defined as a number from 1 to 5. When using the auto non-uniform mesh, the mesh accuracy setting of 2 which corresponds to 10 mesh points per wavelength is considered reasonable for the FDTD method, and mesh accuracy 4 or 5 which corresponds to 18 or 22 mesh points per wavelength is considered high accuracy."
   ]
  },
  {
   "cell_type": "code",
   "execution_count": 49,
   "metadata": {},
   "outputs": [],
   "source": [
    "wSimVolXY = 3e-6 #length of simulation volume in XY plane\n",
    "wSimVolZ = 10e-6 #height of simulation volume\n",
    "timefactor = 300 #time of simulation in units of time that it takes the simulation to cross the volume for the simulation\n",
    "meshacc = 2  #mesh accuracy"
   ]
  },
  {
   "cell_type": "code",
   "execution_count": 50,
   "metadata": {},
   "outputs": [],
   "source": [
    "def define_simulation_volume(wSimVolXY, wSimVolZ, meshacc, timefactor, i):\n",
    "    \"\"\"\n",
    "    This function defines the volume of the simulation an the boundary conditions.\n",
    "    @wSimVolXY: simulation volume lenght in XY directions\n",
    "    @wMarginXY: empty space left at the end of simulation volume\n",
    "    @ meshacc: mesh accuracy as described above\n",
    "    @ timefactor: time for the simulation, in units of time that it takes to cross the simulation volume\n",
    "    @ i: dipole orientation: [0,1,2] -> [X,Y,Z]\n",
    "    \"\"\"\n",
    "    FDTD_dom = fdtd.addfdtd()\n",
    "    FDTD_dom[\"mesh accuracy\"] = meshacc\n",
    "    FDTD_dom[\"mesh refinement\"] = \"conformal variant 1\"  # Will see how this goes\n",
    "    FDTD_dom[\"simulation time\"] = wSimVolXY / c * timefactor\n",
    "    FDTD_dom[\"z min\"] = -wSimVolZ\n",
    "    FDTD_dom[\"z max\"] = wSimVolZ\n",
    "    FDTD_dom[\"x min\"] = -wSimVolXY\n",
    "    FDTD_dom[\"y min\"] = -wSimVolXY\n",
    "    FDTD_dom[\"x max\"] = wSimVolXY\n",
    "    FDTD_dom[\"y max\"] = wSimVolXY\n",
    "    FDTD_dom[\"auto shutoff min\"] = 1e-99  # so it finishes the simulations\n",
    "\n",
    "    fdtd.select(\"FDTD\")\n",
    "\n",
    "    fdtd.set(\"x min bc\", \"Symmetric\")\n",
    "    fdtd.set(\"y min bc\", \"Symmetric\")\n",
    "    fdtd.set(\"z min bc\", \"Symmetric\")\n",
    "\n",
    "    if i == 0:\n",
    "\n",
    "        fdtd.set(\"x min bc\", \"Anti-Symmetric\")\n",
    "    elif i == 1:\n",
    "        fdtd.set(\"y min bc\", \"Anti-Symmetric\")\n",
    "    else:  # i == 2\n",
    "        fdtd.set(\"z min bc\", \"Anti-Symmetric\")"
   ]
  },
  {
   "cell_type": "markdown",
   "metadata": {},
   "source": [
    "Note that we did not add any boundary conditions! We did not because this is the default for `Lumerical`."
   ]
  },
  {
   "cell_type": "markdown",
   "metadata": {},
   "source": [
    "## Design of Photonic Crystal Slab"
   ]
  },
  {
   "cell_type": "markdown",
   "metadata": {},
   "source": [
    "We will define the geometry of our simulation. We start by defining a function that tells us where the centers of the holes in the PhC slab are:"
   ]
  },
  {
   "cell_type": "code",
   "execution_count": 51,
   "metadata": {},
   "outputs": [],
   "source": [
    "aPhC = 380e-9\n",
    "wMarginXY = 0.5e-6"
   ]
  },
  {
   "cell_type": "code",
   "execution_count": 52,
   "metadata": {},
   "outputs": [],
   "source": [
    "def define_center_holes(aPhC, wSimVolXY, wMarginXY):\n",
    "    \"\"\"\n",
    "    This function defines the center of the holes in the PhC.\n",
    "    @aPhC: lattice constant of the crystal\n",
    "    @wSimVolXY: simulation volume lenght in XY directions\n",
    "    @wMarginXY: empty space left at the end of simulation volume\n",
    "    \"\"\"\n",
    "\n",
    "    # We define the primitive lattice vectors\n",
    "\n",
    "    a1 = aPhC * np.array([1, 0])\n",
    "    a2 = aPhC * np.array([-0.5, 0.5 * np.sqrt(3)])\n",
    "    a3 = aPhC * np.array([-0.5, -0.5 * np.sqrt(3)])\n",
    "\n",
    "    # We prepare the simulation layout\n",
    "\n",
    "    nPlot = int(np.ceil((wSimVolXY - wMarginXY) / aPhC))\n",
    "\n",
    "    XX = np.array(\n",
    "        np.matmul(\n",
    "            np.reshape(np.linspace(0, nPlot, nPlot + 1), (nPlot + 1, 1)),\n",
    "            np.ones((1, nPlot + 1)),\n",
    "        )\n",
    "    )\n",
    "\n",
    "    YY = np.array(\n",
    "        np.matmul(\n",
    "            np.ones((nPlot + 1, 1)),\n",
    "            np.reshape(np.linspace(0, nPlot, nPlot + 1), (1, nPlot + 1)),\n",
    "        )\n",
    "    )\n",
    "    \n",
    "    # We define the hole centers in the X and Y dimensions\n",
    "\n",
    "    px1 = np.reshape(a1[0] * XX + a2[0] * YY, [(nPlot + 1) ** 2, 1])\n",
    "    py1 = np.reshape(a1[1] * XX + a2[1] * YY, [(nPlot + 1) ** 2, 1])\n",
    "\n",
    "    px1 = np.vstack([px1, np.reshape(a3[0] * XX + a2[0] * YY, [(nPlot + 1) ** 2, 1])])\n",
    "    py1 = np.vstack([py1, np.reshape(a3[1] * XX + a2[1] * YY, [(nPlot + 1) ** 2, 1])])\n",
    "\n",
    "    px1 = np.vstack([px1, np.reshape(a1[0] * XX + a3[0] * YY, [(nPlot + 1) ** 2, 1])])\n",
    "    py1 = np.vstack([py1, np.reshape(a1[1] * XX + a3[1] * YY, [(nPlot + 1) ** 2, 1])])\n",
    "\n",
    "    px1 = np.reshape(px1, len(px1))\n",
    "    py1 = np.reshape(py1, len(py1))\n",
    "\n",
    "    return px1, py1\n"
   ]
  },
  {
   "cell_type": "markdown",
   "metadata": {},
   "source": [
    "We will check that this works by plotting where the holes would lie:"
   ]
  },
  {
   "cell_type": "code",
   "execution_count": 53,
   "metadata": {},
   "outputs": [
    {
     "data": {
      "text/plain": [
       "<matplotlib.collections.PathCollection at 0x7f731cae4860>"
      ]
     },
     "execution_count": 53,
     "metadata": {},
     "output_type": "execute_result"
    },
    {
     "data": {
      "image/png": "[encoded data removed]",
      "text/plain": [
       "<Figure size 720x432 with 1 Axes>"
      ]
     },
     "metadata": {
      "needs_background": "light"
     },
     "output_type": "display_data"
    }
   ],
   "source": [
    "fig, ax = plt.subplots(figsize=(10,6))\n",
    "\n",
    "centers = define_center_holes(aPhC,wSimVolXY, wMarginXY)\n",
    "ax.set_xlabel(\"$x(nm)$\")\n",
    "ax.set_ylabel(\"$y(nm)$\")\n",
    "ax.scatter(centers[0],centers[1])"
   ]
  },
  {
   "cell_type": "markdown",
   "metadata": {},
   "source": [
    "We obtain the hexagonal pattern that we were looking for! (Note that the axes are not scaled)"
   ]
  },
  {
   "cell_type": "markdown",
   "metadata": {},
   "source": [
    "Now we want to create the slab and add the hexagon holes at the center positions:"
   ]
  },
  {
   "cell_type": "code",
   "execution_count": 54,
   "metadata": {},
   "outputs": [],
   "source": [
    "def build_structure(aPhC, nSiN, tSiN, wSimVolXY, wMarginXY, tTether, RHole):\n",
    "    \"\"\"\n",
    "    This function build the structure of the photonic crystal.\n",
    "    @aPhC: lattice constant of the crystal\n",
    "    @nSiN: refractive index of SiN\n",
    "    @tSiN: thickness of the photonic crystal structure \n",
    "    @wSimVolXY: simulation volume lenght in XY directions\n",
    "    @wMarginXY: empty space left at the end of simulation volume\n",
    "    @tTether: lenght of the tether as described in PNAS paper\n",
    "    @RHole: Radius of the inscribed circle in the hexagonal holes\n",
    "    \"\"\"\n",
    "    # 1. We add the PhCS without holes\n",
    "\n",
    "    rect = fdtd.addrect()\n",
    "    rect[\"name\"] = \"Dplate\"\n",
    "    rect[\"index\"] = nSiN\n",
    "    rect[\"x span\"] = 2 * wSimVolXY  # + 2e-6\n",
    "    rect[\"y span\"] = 2 * wSimVolXY  # + 2e-6\n",
    "    rect[\"z min\"] = -0.5 * tSiN\n",
    "    rect[\"z max\"] = 0.5 * tSiN\n",
    "\n",
    "    # 2. We create the hexagonal area where the holes sit\n",
    "\n",
    "    nPlot = int(np.ceil((wSimVolXY - wMarginXY) / aPhC))\n",
    "\n",
    "    base = fdtd.addpoly()\n",
    "    base[\"name\"] = \"DHexSiNBase\"\n",
    "    base[\"index\"] = nSiN\n",
    "    base[\"z span\"] = tSiN\n",
    "    base[\"x\"] = 0\n",
    "    base[\"y\"] = 0\n",
    "    base[\"vertices\"] = (\n",
    "        nPlot\n",
    "        * aPhC\n",
    "        * np.array(\n",
    "            [\n",
    "                [1, 0.5, -0.5, -1, -0.5, 0.5],\n",
    "                [\n",
    "                    0,\n",
    "                    0.8660254037844386,\n",
    "                    0.8660254037844386,\n",
    "                    0,\n",
    "                    -0.8660254037844386,\n",
    "                    -0.8660254037844386,\n",
    "                ],\n",
    "            ]\n",
    "        )\n",
    "    )\n",
    "\n",
    "    # We get the parameters/shape for the holes\n",
    "    if (aPhC - tTether) > 1e-9:\n",
    "        # RHole = (aPhC - tTether) / np.sqrt(3)\n",
    "        # We get the 6 vertices of the holes\n",
    "        thihole = np.pi / 3 * np.linspace(0, 5, 6) + np.pi / 6 * np.ones(6)\n",
    "        pHoleX = RHole * np.cos(thihole)\n",
    "        pHoleY = RHole * np.sin(thihole)\n",
    "\n",
    "    # We get the hole centers\n",
    "\n",
    "    px1, py1 = define_center_holes(aPhC, wSimVolXY, wMarginXY)\n",
    "\n",
    "    # INDEX SEARCH FOR HOLE MODIFICATION\n",
    "    stol = 1e-9\n",
    "    # Tolerance\n",
    "    indH0 = np.argwhere(np.abs(px1 ** 2 + py1 ** 2) < stol ** 2)  # Center hole\n",
    "    indH1 = np.argwhere(\n",
    "        (np.abs(px1 ** 2 + py1 ** 2) > (aPhC - stol) ** 2)\n",
    "        & (np.abs(px1 ** 2 + py1 ** 2) < (aPhC + stol) ** 2)\n",
    "    )  # Nearest neighbor holes : i.e. first ring of holes\n",
    "    indHN = np.argwhere(\n",
    "        np.abs(px1 ** 2 + py1 ** 2) > (aPhC + stol) ** 2\n",
    "    )  # Rest of holesp\n",
    "\n",
    "    # In the first approximation we will not modify the shape or position of any hole.\n",
    "    # Center hole\n",
    "    center_hole = fdtd.addpoly()\n",
    "    center_hole[\"name\"] = \"DHexHole\" + str(indH0[0])\n",
    "    center_hole[\"index\"] = 1.0\n",
    "    center_hole[\"x\"] = px1[indH0]  # x is phc propagation direction\n",
    "    center_hole[\"y\"] = py1[indH0]  #\n",
    "    center_hole[\"z span\"] = tSiN\n",
    "    # vertMod = (RHole + dR0) * np.array([np.cos(thihole), np.sin(thihole)])\n",
    "    center_hole[\"vertices\"] = np.transpose([pHoleX, pHoleY])\n",
    "\n",
    "    # First NN holes\n",
    "    for j in range(1, len(indH1)):\n",
    "        NN_hole = fdtd.addpoly()\n",
    "        NN_hole[\"name\"] = \"DHexHole\" + str(indH1[j])\n",
    "        NN_hole[\"index\"] = 1.0  # This is hole\n",
    "        xUse = px1[indH1[j]]\n",
    "        yUse = py1[indH1[j]]\n",
    "        # pos_array = np.array([xUse, yUse])\n",
    "        # posMod = pos_array + dp1 * pos_array / np.norm(pos_array)\n",
    "        NN_hole[\"x\"] = xUse  # x is phc propagation direction\n",
    "        NN_hole[\"y\"] = yUse  #\n",
    "        NN_hole[\"z span\"] = tSiN\n",
    "        # vertMod = (RHole + dR1) * np.array([np.cos(thihole), np.sin(thihole)])\n",
    "        NN_hole[\"vertices\"] = np.transpose([pHoleX, pHoleY])\n",
    "\n",
    "    # The 'normal' holes\n",
    "    for j in range(1, len(indHN)):\n",
    "        normal_hole = fdtd.addpoly()\n",
    "        normal_hole[\"name\"] = \"DHexHole\" + str(indHN[j])\n",
    "        normal_hole[\"index\"] = 1.0  # This is hole\n",
    "        normal_hole[\"x\"] = px1[indHN[j]]  # x is phc propagation direction\n",
    "        normal_hole[\"y\"] = py1[indHN[j]]  #\n",
    "        normal_hole[\"z span\"] = tSiN\n",
    "        normal_hole[\"vertices\"] = np.transpose([pHoleX, pHoleY])"
   ]
  },
  {
   "cell_type": "markdown",
   "metadata": {},
   "source": [
    "## Adding sources to our simulation"
   ]
  },
  {
   "cell_type": "markdown",
   "metadata": {},
   "source": [
    "Now we will add the sources to the simulation. The FDTD method is commonly employed to compute transmission and\n",
    "reflection spectra, much like the frequency-domain response. Unlike solvers for a frequency-domain response, however, time-domain methods can compute the response of a linear system at many frequencies with\n",
    "a single computation. The trick is to take the Fourier transform of the response\n",
    "to a short pulse. "
   ]
  },
  {
   "cell_type": "markdown",
   "metadata": {},
   "source": [
    "But of course, because of the Fourier uncertainty principle a more frequency resolved spectral feature will require more time, given the steady-state response of the system is achieved."
   ]
  },
  {
   "cell_type": "markdown",
   "metadata": {},
   "source": [
    "In this example, we will use a dipole source with a bandwidth to extract the spectral features of our system. For reference on the dipole source, please check: https://support.lumerical.com/hc/en-us/articles/360034382794-Dipole-source-Simulation-object"
   ]
  },
  {
   "cell_type": "code",
   "execution_count": 55,
   "metadata": {},
   "outputs": [],
   "source": [
    "def define_sources(px1,py1, i, freqhighres):\n",
    "    \"\"\"\n",
    "    This defines the sources to be used in the simulation.\n",
    "    @px1: X coordinates of the hole centers.\n",
    "    @py1: Y coordinates of the hole centers\n",
    "    @ i: dipole orientation: [0,1,2] -> [X,Y,Z]\n",
    "    @freqhighres: Sampling resolution of the frequency \n",
    "    \"\"\"\n",
    "    freq = 351.726e12\n",
    "    bandwidth = 250e12 \n",
    "\n",
    "    # The sampling resolution should not be confused by the frequency resolution that is determined by the\n",
    "    # Fourier transform and the simulation time. This will give us the real resolution, which we later sample\n",
    "    # with the sampling resolution!\n",
    "\n",
    "    # For use as input into the DipolePower() and SourcePower()\n",
    "    fUse = (\n",
    "        freq\n",
    "        - 0.5 * bandwidth\n",
    "        + bandwidth * np.linspace(0, (freqhighres - 1), freqhighres) / (freqhighres - 1)\n",
    "    )\n",
    "\n",
    "    dipole_source = fdtd.adddipole()\n",
    "    dipole_source[\"name\"] = \"DSource\"\n",
    "\n",
    "    # Now we will get the position of the central hole:\n",
    "\n",
    "    stol = 1e-9\n",
    "    indH0 = np.argwhere(np.abs(px1 ** 2 + py1 ** 2) < stol ** 2)  # Center hole\n",
    "\n",
    "    dipole_source[\"x\"] = px1[indH0[0]]  \n",
    "    dipole_source[\"y\"] = py1[indH0[0]] \n",
    "    dzDP = 0.0 # Z displacement of atom in simulation volume \n",
    "    dipole_source[\n",
    "        \"z\"\n",
    "    ] = dzDP  # This is how much the dipole is displaced on the Z axis, if it cannot be trapped correctly\n",
    "    \n",
    "    dipole_source[\"set frequency\"] = 1 # This makes it possible to either set the frequency or the wavelength and choose to either set the center and span or the minimum and maximum frequencies of the source.\n",
    "    dipole_source[\"override global source settings\"] = True\n",
    "    dipole_source[\"center frequency\"] = freq\n",
    "    dipole_source[\"frequency span\"] = bandwidth\n",
    "    dipole_source[\"optimize for short pulse\"] = True\n",
    "\n",
    "    # Normalize for injected power source:\n",
    "\n",
    "    fdtd.cwnorm(1)  # Normalized to the first active source\n",
    "    dipole_source[\"record local field\"] = 1 # Gives better results for Purcell Factor calculations, etc.\n",
    "\n",
    "    thi = [90, 90, 0]\n",
    "    phi = [0, 90, 0]\n",
    "\n",
    "    fdtd.select(\"DSource\")\n",
    "    fdtd.set(\"theta\", thi[i])\n",
    "    fdtd.set(\"phi\", phi[i])\n",
    "    "
   ]
  },
  {
   "cell_type": "markdown",
   "metadata": {},
   "source": [
    "## Adding monitors for measurement"
   ]
  },
  {
   "cell_type": "markdown",
   "metadata": {},
   "source": [
    "Finally, we want to add monitors to perform measurements. As a matter of fact, to calculate the Purcell factor we need to be able to know the power of the dipole, and to calculate the emission into radiation modes we need to define the boxes that will measure the power that goes through them:"
   ]
  },
  {
   "cell_type": "code",
   "execution_count": 56,
   "metadata": {},
   "outputs": [],
   "source": [
    "def add_monitors(freqhighres):\n",
    "    \"\"\"\n",
    "    This function adds the monitors to measure the fields/power in the simulation.\n",
    "    @freqhighres: Sampling resolution of the frequency \n",
    "    \"\"\"\n",
    "    #  Field at dipole position\n",
    "\n",
    "    # 1) Field on dipole source location for Green function\n",
    "\n",
    "    profile = fdtd.addpower()\n",
    "    profile[\"name\"] = \"profile\"\n",
    "    profile[\"monitor type\"] = \"2D Z-normal\"\n",
    "    profile[\"x\"] = 0\n",
    "    profile[\"y\"] = 0\n",
    "    profile[\"z\"] = 0\n",
    "    profile[\"x min\"] = -wSimVolXY\n",
    "    profile[\"x max\"] = +wSimVolXY\n",
    "    profile[\"x span\"] = 2 * wSimVolXY\n",
    "    profile[\"y min\"] = -wSimVolXY\n",
    "    profile[\"y max\"] = +wSimVolXY\n",
    "    profile[\"y span\"] = 2 * wSimVolXY\n",
    "    profile[\"override global monitor settings\"] = 1\n",
    "    profile[\"frequency points\"] = freqhighres\n",
    "\n",
    "    # We set power monitor for radiation losses\n",
    "\n",
    "    # Parameters computed from convergence test\n",
    "\n",
    "    L_rad = 4 * aPhC  # Normally 14\n",
    "    h_rad = 4e-6 #0.85e-6\n",
    "    w_rad = 2e-6 #0.5e-6\n",
    "\n",
    "    profile1 = fdtd.addpower()\n",
    "    profile1[\"name\"] = \"profile_prime1\"\n",
    "    profile1[\"monitor type\"] = \"2D Z-normal\"\n",
    "    profile1[\"x\"] = 0\n",
    "    profile1[\"y\"] = 0\n",
    "    profile1[\"z\"] = h_rad\n",
    "    profile1[\"x min\"] = -L_rad\n",
    "    profile1[\"x max\"] = +L_rad\n",
    "    profile1[\"x span\"] = 2 * L_rad\n",
    "    profile1[\"y min\"] = -L_rad\n",
    "    profile1[\"y max\"] = +L_rad\n",
    "    profile1[\"y span\"] = 2 * L_rad\n",
    "    profile1[\"override global monitor settings\"] = 1\n",
    "    profile1[\"frequency points\"] = freqhighres\n",
    "\n",
    "    profile2 = fdtd.addpower()\n",
    "    profile2[\"name\"] = \"profile_prime2\"\n",
    "    profile2[\"monitor type\"] = \"2D Y-normal\"\n",
    "    profile2[\"x\"] = 0\n",
    "    profile2[\"y\"] = L_rad\n",
    "    profile2[\"z\"] = h_rad - 0.5 * w_rad\n",
    "    profile2[\"x min\"] = -L_rad\n",
    "    profile2[\"x max\"] = +L_rad\n",
    "    profile2[\"x span\"] = 2 * L_rad\n",
    "    profile2[\"z min\"] = h_rad - w_rad\n",
    "    profile2[\"z max\"] = h_rad\n",
    "    profile2[\"z span\"] = w_rad\n",
    "    profile2[\"override global monitor settings\"] = 1\n",
    "    profile2[\"frequency points\"] = freqhighres\n",
    "\n",
    "    profile3 = fdtd.addpower()\n",
    "    profile3[\"name\"] = \"profile_prime3\"\n",
    "    profile3[\"monitor type\"] = \"2D X-normal\"\n",
    "    profile3[\"x\"] = L_rad\n",
    "    profile3[\"y\"] = 0\n",
    "    profile3[\"z\"] = h_rad - 0.5 * w_rad\n",
    "    profile3[\"y min\"] = -L_rad\n",
    "    profile3[\"y max\"] = L_rad\n",
    "    profile3[\"y span\"] = 2 * L_rad\n",
    "    profile3[\"z min\"] = h_rad - w_rad\n",
    "    profile3[\"z max\"] = h_rad\n",
    "    profile3[\"z span\"] = w_rad\n",
    "    profile3[\"override global monitor settings\"] = 1\n",
    "    profile3[\"frequency points\"] = freqhighres"
   ]
  },
  {
   "cell_type": "markdown",
   "metadata": {},
   "source": [
    "## Make savefile"
   ]
  },
  {
   "cell_type": "markdown",
   "metadata": {},
   "source": [
    "Lumerical requires a savefile to run the simulation, we just create it by assigning it a name."
   ]
  },
  {
   "cell_type": "code",
   "execution_count": 57,
   "metadata": {},
   "outputs": [],
   "source": [
    "def make_savefile(name):\n",
    "    \"\"\"\n",
    "    This creates the fsp savefile which holds the data for the lumerical simulation.\n",
    "    @name: name of the savefile\n",
    "    \"\"\"\n",
    "    fdtd.save(\"lumerical-running-savefile\" + str(name))"
   ]
  },
  {
   "cell_type": "markdown",
   "metadata": {},
   "source": [
    "## Create fsp file"
   ]
  },
  {
   "cell_type": "markdown",
   "metadata": {},
   "source": [
    "Now, we combine all of the previous functions to create the fsp file with all the simulation data within."
   ]
  },
  {
   "cell_type": "code",
   "execution_count": 58,
   "metadata": {},
   "outputs": [],
   "source": [
    "def create_fsp_file(name):    \n",
    "    \"\"\"\n",
    "    This creates the fsp simulation file by combining the previous functions.\n",
    "    @name: name of the savefile\n",
    "    \"\"\"\n",
    "    \n",
    "    wSimVolXY = 3e-6\n",
    "    wSimVolZ = 10e-6\n",
    "    timefactor = 300\n",
    "    meshacc = 2 \n",
    "    i = 0 # X orientation of dipole\n",
    "    define_simulation_volume(wSimVolXY,wSimVolZ,meshacc,timefactor, i)\n",
    "    nSiN = 1.997\n",
    "    tSiN = 200e-9\n",
    "    tTether = 180e-9\n",
    "    multiplier = 0.261 * aPhC\n",
    "    RHole = 2 * multiplier / np.sqrt(3)\n",
    "    build_structure(aPhC, nSiN, tSiN, wSimVolXY, wMarginXY, tTether, RHole)\n",
    "    freqhighres = 1000\n",
    "    px1, py1 = define_center_holes(aPhC, wSimVolXY, wMarginXY)\n",
    "    define_sources(px1,py1,i, freqhighres)\n",
    "    add_monitors(freqhighres)\n",
    "    make_savefile(name)\n",
    "    "
   ]
  },
  {
   "cell_type": "markdown",
   "metadata": {},
   "source": [
    "## Running the simulation"
   ]
  },
  {
   "cell_type": "markdown",
   "metadata": {},
   "source": [
    "We may now create the fsp file:"
   ]
  },
  {
   "cell_type": "code",
   "execution_count": 59,
   "metadata": {},
   "outputs": [],
   "source": [
    "name = \"test\"\n",
    "create_fsp_file(name)"
   ]
  },
  {
   "cell_type": "markdown",
   "metadata": {},
   "source": [
    "And then we run it using the `subprocess` library:"
   ]
  },
  {
   "cell_type": "code",
   "execution_count": 60,
   "metadata": {},
   "outputs": [],
   "source": [
    "process = subprocess.Popen(\n",
    "        [\n",
    "            \"nohup /opt/lumerical/v212/mpich2/nemesis/bin/mpiexec -n 4 /opt/lumerical/v212/bin/fdtd-engine-mpich2nem lumerical-running-savefile\"\n",
    "            + str(name)\n",
    "            + \".fsp > output.txt </dev/null \"\n",
    "        ],\n",
    "        shell=True,\n",
    "    )  # this executes a shell command\n",
    "\n",
    "exit_code = process.wait()  # We wait till the process is finished: in case there are processes to be run sequentially!"
   ]
  },
  {
   "cell_type": "markdown",
   "metadata": {},
   "source": [
    "## Saving the results"
   ]
  },
  {
   "cell_type": "markdown",
   "metadata": {},
   "source": [
    "Once we have run the simulation and the fsp has all the information of the simulation we can retrieve our results:"
   ]
  },
  {
   "cell_type": "code",
   "execution_count": 61,
   "metadata": {},
   "outputs": [],
   "source": [
    "def get_results(i, name):\n",
    "    \"\"\"\n",
    "    This functions calculates the FOMs using the fsp file.\n",
    "    @name: name of the savefile\n",
    "    @ i: dipole orientation: [0,1,2] -> [X,Y,Z]\n",
    "    \"\"\"\n",
    "    fdtd = lumapi.FDTD(hide=True)\n",
    "    fdtd.load(\"lumerical-running-savefile\" + str(name))\n",
    "\n",
    "    freq = 351.726e12\n",
    "    bandwidth = 250e12  \n",
    "    freqhighres = 1000  # For more detailed plots\n",
    "\n",
    "    # For use as input into the DipolePower() and SourcePower()\n",
    "    fUse = (\n",
    "        freq\n",
    "        - 0.5 * bandwidth\n",
    "        + bandwidth * np.linspace(0, (freqhighres - 1), freqhighres) / (freqhighres - 1)\n",
    "    )\n",
    "\n",
    "    EPurcellEnhancement = np.abs(\n",
    "        fdtd.dipolepower(fUse)[:, 0] / fdtd.sourcepower(fUse)[:, 0]\n",
    "    )\n",
    "\n",
    "    moment = fdtd.getdata(\"DSource\", \"moment\")\n",
    "    eps_0 = 8.85e-12\n",
    "    c = 3e8\n",
    "\n",
    "    # Purcell enhancement with Green's function: E field from monitor\n",
    "\n",
    "    E_m = fdtd.getresult(\"profile\", \"E\")[\"E\"]\n",
    "\n",
    "    G_m = (E_m * c ** 2 * eps_0) / (\n",
    "        moment * (2 * np.pi * fUse[None, None, None, :, None]) ** 2\n",
    "    )\n",
    "\n",
    "    Green_function = G_m\n",
    "\n",
    "    P_prime_1 = np.real(fdtd.getresult(\"profile_prime1\", \"power\")[:, 0])\n",
    "    P_prime_2 = np.real(fdtd.getresult(\"profile_prime2\", \"power\")[:, 0])\n",
    "    P_prime_3 = np.real(fdtd.getresult(\"profile_prime3\", \"power\")[:, 0])\n",
    "\n",
    "    P_prime = 2 * (P_prime_1 + 2 * P_prime_2 + 2 * P_prime_3)\n",
    "\n",
    "    Purcell_rad = np.abs(P_prime / fdtd.sourcepower(fUse)[:, 0])\n",
    "\n",
    "    return (\n",
    "        Green_function,\n",
    "        EPurcellEnhancement,\n",
    "        Purcell_rad,\n",
    "    )"
   ]
  },
  {
   "cell_type": "markdown",
   "metadata": {},
   "source": [
    "We can use the previous function to save our results in files:"
   ]
  },
  {
   "cell_type": "code",
   "execution_count": 62,
   "metadata": {},
   "outputs": [],
   "source": [
    "i = 0\n",
    "results = get_results(i, name)\n",
    "\n",
    "np.save(\"Green_functions\" + name, np.array(results[0]))\n",
    "np.savetxt(\"PurcellEnhancement\" + name + \".txt\", np.array(results[1]))\n",
    "np.savetxt(\"Purcell_rad\" + name + \".txt\", np.array(results[2]))"
   ]
  },
  {
   "cell_type": "markdown",
   "metadata": {},
   "source": [
    "## Data analysis and visualization of results"
   ]
  },
  {
   "cell_type": "markdown",
   "metadata": {},
   "source": [
    "Finally, we load our results from the files and plot the Purcell Enhancement:"
   ]
  },
  {
   "cell_type": "code",
   "execution_count": 63,
   "metadata": {},
   "outputs": [
    {
     "name": "stdout",
     "output_type": "stream",
     "text": [
      "Max. Purcell Factor in X:  7.9617582533624915\n",
      "Min. Purcell Factor in X:  0.2258972031298341\n"
     ]
    },
    {
     "data": {
      "image/png": "[encoded data removed]",
      "text/plain": [
       "<Figure size 1008x576 with 1 Axes>"
      ]
     },
     "metadata": {
      "needs_background": "light"
     },
     "output_type": "display_data"
    }
   ],
   "source": [
    "Purcell_X = np.loadtxt(\"PurcellEnhancementtest.txt\")\n",
    "\n",
    "\n",
    "freq = 351.726e12\n",
    "bandwidth = 250e12  # This is giant. will it work?\n",
    "freqhighres = 1000\n",
    "\n",
    "# For use as input into the DipolePower() and SourcePower()\n",
    "fUse = (\n",
    "    freq\n",
    "    - 0.5 * bandwidth\n",
    "    + bandwidth * np.linspace(0, (freqhighres - 1), freqhighres) / (freqhighres - 1)\n",
    ") * 10 ** -12\n",
    "\n",
    "fig, ax = plt.subplots(figsize=(14, 8))\n",
    "\n",
    "ax.plot(fUse, Purcell_X, color=\"red\", label=\"X orientation\")\n",
    "\n",
    "ax.set_yscale(\"log\")\n",
    "\n",
    "ax.set_ylabel(\"Purcell Factor\")\n",
    "ax.set_xlabel(\"Frequency (THz)\")\n",
    "\n",
    "ax.legend(frameon=True)\n",
    "\n",
    "print(\"Max. Purcell Factor in X: \", np.max(Purcell_X))\n",
    "print(\"Min. Purcell Factor in X: \", np.min(Purcell_X))\n",
    "\n",
    "fig.savefig(\"phc_purcell_factor.pdf\")"
   ]
  },
  {
   "cell_type": "markdown",
   "metadata": {},
   "source": [
    "We also plot the emission into the radiation modes relative to free-space emission:"
   ]
  },
  {
   "cell_type": "code",
   "execution_count": 64,
   "metadata": {},
   "outputs": [
    {
     "name": "stdout",
     "output_type": "stream",
     "text": [
      "Rad. emission in X for trans. freq. :  0.09719721229304397\n"
     ]
    },
    {
     "data": {
      "image/png": "[encoded data removed]",
      "text/plain": [
       "<Figure size 864x576 with 1 Axes>"
      ]
     },
     "metadata": {
      "needs_background": "light"
     },
     "output_type": "display_data"
    }
   ],
   "source": [
    "def find_nearest(array, value):\n",
    "    array = np.asarray(array)\n",
    "    idx = (np.abs(array - value)).argmin()\n",
    "    return array[idx]\n",
    "\n",
    "\n",
    "value = find_nearest(fUse, freq * 1e-12)\n",
    "index = list(fUse).index(value)\n",
    "\n",
    "Purcell_rad_X = np.loadtxt(\"Purcell_radtest.txt\")\n",
    "\n",
    "\n",
    "fig, ax = plt.subplots(figsize=(12, 8))\n",
    "\n",
    "ax.plot(fUse, Purcell_rad_X, color=\"red\", label=\"X orientation\")\n",
    "ax.legend(frameon=True,loc=0)\n",
    "ax.set_ylabel(\"$\\Gamma^\\prime / \\Gamma_0$\")\n",
    "ax.set_xlabel(\"Frequency (THz)\")\n",
    "\n",
    "print(\"Rad. emission in X for trans. freq. : \", Purcell_rad_X[index])\n",
    "\n",
    "fig.savefig(\"phc_gamma_prime_gamma_0.pdf\")"
   ]
  },
  {
   "cell_type": "markdown",
   "metadata": {},
   "source": [
    "We can find the emission into the guided modes by subtracting: $\\Gamma_{2D} = \\Gamma_{\\text{tot}} - \\Gamma^\\prime$. Subsequently, we can find the beta factor: $\\beta = \\Gamma_{2D} / \\Gamma_\\text{tot}$."
   ]
  },
  {
   "cell_type": "code",
   "execution_count": 65,
   "metadata": {},
   "outputs": [
    {
     "name": "stdout",
     "output_type": "stream",
     "text": [
      "Max. beta factor X:  0.9811190759237187\n"
     ]
    },
    {
     "data": {
      "image/png": "[encoded data removed]",
      "text/plain": [
       "<Figure size 864x576 with 1 Axes>"
      ]
     },
     "metadata": {
      "needs_background": "light"
     },
     "output_type": "display_data"
    }
   ],
   "source": [
    "Purcell_1D_X = Purcell_X - Purcell_rad_X\n",
    "beta_factor_X = Purcell_1D_X / Purcell_X\n",
    "\n",
    "\n",
    "fig, ax = plt.subplots(figsize=(12, 8))\n",
    "\n",
    "ax.plot(fUse, beta_factor_X, color=\"red\", label=\"X orientation\")\n",
    "\n",
    "\n",
    "\n",
    "# ax.set_yscale(\"log\")\n",
    "\n",
    "ax.set_ylabel(\"Beta Factor\")\n",
    "ax.set_xlabel(\"Frequency (THz)\")\n",
    "ax.legend(frameon = True)\n",
    "print(\"Max. beta factor X: \", np.max(beta_factor_X))"
   ]
  },
  {
   "cell_type": "markdown",
   "metadata": {},
   "source": [
    "And lastly, we can also show one of the most important FOMs $\\Gamma_{\\text{2D}}/\\Gamma^\\prime$:"
   ]
  },
  {
   "cell_type": "code",
   "execution_count": 66,
   "metadata": {},
   "outputs": [
    {
     "name": "stdout",
     "output_type": "stream",
     "text": [
      "Max. Gamma2D/Gamma' in X:  51.96350941086749\n",
      "Frequency for maximum:  377.12640040040037\n",
      "Min. Gamma2D/Gamma' in X:  1.3079820503009068\n"
     ]
    },
    {
     "data": {
      "image/png": "[encoded data removed]",
      "text/plain": [
       "<Figure size 864x576 with 1 Axes>"
      ]
     },
     "metadata": {
      "needs_background": "light"
     },
     "output_type": "display_data"
    }
   ],
   "source": [
    "Gamma_1D_vs_prime_X = Purcell_1D_X / Purcell_rad_X\n",
    "\n",
    "\n",
    "fig, ax = plt.subplots(figsize=(12, 8))\n",
    "\n",
    "ax.plot(fUse, Gamma_1D_vs_prime_X, color=\"red\", label=\"X orientation\")\n",
    "\n",
    "ax.set_yscale(\"log\")\n",
    "\n",
    "ax.set_ylabel(\"$\\Gamma_{2D}/\\Gamma^\\prime$\")\n",
    "ax.set_xlabel(\"Frequency (THz)\")\n",
    "ax.legend()\n",
    "\n",
    "print(\"Max. Gamma2D/Gamma' in X: \", np.max(Gamma_1D_vs_prime_X))\n",
    "print(\n",
    "    \"Frequency for maximum: \",\n",
    "    fUse[list(Gamma_1D_vs_prime_X).index(np.max(Gamma_1D_vs_prime_X))],\n",
    ")\n",
    "print(\"Min. Gamma2D/Gamma' in X: \", np.min(np.abs(Gamma_1D_vs_prime_X)))\n",
    "\n",
    "fig.savefig(\"phc_gamma_2D_gamma_prime.pdf\")"
   ]
  }
 ],
 "metadata": {
  "interpreter": {
   "hash": "1b50d473ef78a3ed3317d34527a34a184da521929be54a5f94b662f02e218981"
  },
  "kernelspec": {
   "display_name": "Python 3.6.8 64-bit",
   "language": "python",
   "name": "python3"
  },
  "language_info": {
   "codemirror_mode": {
    "name": "ipython",
    "version": 3
   },
   "file_extension": ".py",
   "mimetype": "text/x-python",
   "name": "python",
   "nbconvert_exporter": "python",
   "pygments_lexer": "ipython3",
   "version": "3.6.8"
  },
  "orig_nbformat": 4
 },
 "nbformat": 4,
 "nbformat_minor": 2
}
